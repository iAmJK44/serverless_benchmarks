{
 "cells": [
  {
   "cell_type": "markdown",
   "metadata": {},
   "source": [
    "# Metaspace annotation pipeline on Lithops\n",
    "\n",
    "Experimental code to integrate the [METASPACE annotation engine](https://github.com/metaspace2020/metaspace/tree/master/metaspace/engine)\n",
    "with [Lithops](https://github.com/lithops-cloud/lithops)."
   ]
  },
  {
   "cell_type": "markdown",
   "metadata": {},
   "source": [
    "## Table of Contents\n",
    "1. [Setup](#setup)\n",
    "2. [Run Annotation Pipeline](#annotation)\n",
    "3. [Display Annotations](#display)\n",
    "4. [Clean Temp Data](#clean)"
   ]
  },
  {
   "cell_type": "markdown",
   "metadata": {
    "pycharm": {
     "metadata": false
    }
   },
   "source": [
    "# <a name=\"setup\"></a> Setup\n",
    "\n",
    "Follow the instructions in [README.md](./README.md) to configure Lithops to use a cloud platform. If not configured, Lithops will execute code on the local computer using `multiprocessing`."
   ]
  },
  {
   "cell_type": "code",
   "execution_count": 1,
   "metadata": {
    "ExecuteTime": {
     "end_time": "2021-01-28T18:38:26.889801Z",
     "start_time": "2021-01-28T18:38:26.729894Z"
    },
    "pycharm": {
     "metadata": false,
     "name": "#%%\n"
    }
   },
   "outputs": [],
   "source": [
    "%load_ext autoreload\n",
    "%autoreload 2\n",
    "%config Completer.use_jedi = False\n",
    "%matplotlib inline"
   ]
  },
  {
   "cell_type": "code",
   "execution_count": 2,
   "metadata": {
    "ExecuteTime": {
     "end_time": "2021-01-28T18:38:26.898702Z",
     "start_time": "2021-01-28T18:38:26.890844Z"
    },
    "pycharm": {
     "metadata": false,
     "name": "#%%\n"
    }
   },
   "outputs": [
    {
     "name": "stdout",
     "output_type": "stream",
     "text": [
      "Before: 4096 1048576\n",
      "After: 10000 1048576\n"
     ]
    }
   ],
   "source": [
    "# We need this to overcome Python notebooks limitations of too many open files\n",
    "import resource\n",
    "soft, hard = resource.getrlimit(resource.RLIMIT_NOFILE)\n",
    "print('Before:', soft, hard)\n",
    "\n",
    "# Raising the soft limit. Hard limits can be raised only by sudo users\n",
    "resource.setrlimit(resource.RLIMIT_NOFILE, (10000, hard))\n",
    "soft, hard = resource.getrlimit(resource.RLIMIT_NOFILE)\n",
    "print('After:', soft, hard)"
   ]
  },
  {
   "cell_type": "code",
   "execution_count": 3,
   "metadata": {
    "ExecuteTime": {
     "end_time": "2021-01-28T18:38:26.925084Z",
     "start_time": "2021-01-28T18:38:26.899701Z"
    },
    "pycharm": {
     "metadata": false,
     "name": "#%%\n"
    }
   },
   "outputs": [],
   "source": [
    "import logging\n",
    "logging.basicConfig(level=logging.INFO)"
   ]
  },
  {
   "cell_type": "markdown",
   "metadata": {},
   "source": [
    "## Project Setup\n",
    "\n",
    "Check that the `Lithops-METASPACE` project is installed."
   ]
  },
  {
   "cell_type": "code",
   "execution_count": 4,
   "metadata": {
    "ExecuteTime": {
     "end_time": "2021-01-28T18:38:27.214443Z",
     "start_time": "2021-01-28T18:38:26.926140Z"
    }
   },
   "outputs": [
    {
     "name": "stdout",
     "output_type": "stream",
     "text": [
      "Lithops version: 3.0.0\n"
     ]
    }
   ],
   "source": [
    "try:\n",
    "    from annotation_pipeline import Pipeline\n",
    "    import lithops\n",
    "    print('Lithops version: ' + lithops.__version__)\n",
    "except ImportError:\n",
    "    print('Failed to import Lithops-METASPACE. Please run \"pip install -e .\" in this directory.')"
   ]
  },
  {
   "cell_type": "code",
   "execution_count": 5,
   "metadata": {
    "ExecuteTime": {
     "end_time": "2021-01-28T18:38:27.226421Z",
     "start_time": "2021-01-28T18:38:27.215364Z"
    },
    "pycharm": {
     "metadata": false,
     "name": "#%%\n"
    }
   },
   "outputs": [
    {
     "data": {
      "text/plain": [
       "'3.0.0'"
      ]
     },
     "execution_count": 5,
     "metadata": {},
     "output_type": "execute_result"
    }
   ],
   "source": [
    "# Display Lithops version\n",
    "import lithops\n",
    "lithops.__version__"
   ]
  },
  {
   "cell_type": "markdown",
   "metadata": {
    "pycharm": {
     "metadata": false
    }
   },
   "source": [
    "## Input Files Setup\n",
    "\n",
    "Choose between the input config files to select how much processing will be done. See the `README.md` for more information on each dataset."
   ]
  },
  {
   "cell_type": "code",
   "execution_count": 6,
   "metadata": {
    "ExecuteTime": {
     "end_time": "2021-01-28T18:38:27.242611Z",
     "start_time": "2021-01-28T18:38:27.227315Z"
    },
    "pycharm": {
     "metadata": false,
     "name": "#%%\n"
    }
   },
   "outputs": [],
   "source": [
    "import json\n",
    "\n",
    "# Input dataset and database (increase/decrease config number to increase/decrease job size)\n",
    "input_ds = json.load(open('metabolomics/ds_config1.json'))\n",
    "input_db = json.load(open('metabolomics/db_config1.json'))"
   ]
  },
  {
   "cell_type": "code",
   "execution_count": 7,
   "metadata": {
    "ExecuteTime": {
     "end_time": "2021-01-28T18:38:27.259312Z",
     "start_time": "2021-01-28T18:38:27.243638Z"
    },
    "pycharm": {
     "name": "#%%\n"
    }
   },
   "outputs": [
    {
     "data": {
      "text/plain": [
       "{'name': 'Brain02_Bregma1-42_02',\n",
       " 'imzml_path': 'cos://embl-datasets/small/ds.imzML',\n",
       " 'ibd_path': 'cos://embl-datasets/small/ds.ibd',\n",
       " 'num_decoys': 20,\n",
       " 'polarity': '+',\n",
       " 'isocalc_sigma': 0.000693,\n",
       " 'metaspace_id': '2016-09-22_11h16m11s'}"
      ]
     },
     "execution_count": 7,
     "metadata": {},
     "output_type": "execute_result"
    }
   ],
   "source": [
    "input_ds"
   ]
  },
  {
   "cell_type": "code",
   "execution_count": 8,
   "metadata": {
    "ExecuteTime": {
     "end_time": "2021-01-28T18:38:27.280105Z",
     "start_time": "2021-01-28T18:38:27.260753Z"
    },
    "pycharm": {
     "name": "#%%\n"
    }
   },
   "outputs": [
    {
     "data": {
      "text/plain": [
       "{'name': 'db_config1',\n",
       " 'databases': ['metabolomics/db/mol_db1.csv'],\n",
       " 'adducts': ['', '+H', '+Na', '+K'],\n",
       " 'modifiers': ['']}"
      ]
     },
     "execution_count": 8,
     "metadata": {},
     "output_type": "execute_result"
    }
   ],
   "source": [
    "input_db"
   ]
  },
  {
   "cell_type": "markdown",
   "metadata": {
    "pycharm": {
     "metadata": false,
     "name": "#%%\n"
    }
   },
   "source": [
    "# <a name=\"annotation\"></a> Run Annotation Pipeline"
   ]
  },
  {
   "cell_type": "code",
   "execution_count": 11,
   "metadata": {
    "ExecuteTime": {
     "end_time": "2021-01-28T18:38:27.575106Z",
     "start_time": "2021-01-28T18:38:27.281590Z"
    }
   },
   "outputs": [
    {
     "name": "stderr",
     "output_type": "stream",
     "text": [
      "INFO:lithops.config:Lithops v3.0.0 - Python3.8\n",
      "INFO:annotation-pipeline:Using the pure Serverless implementation\n",
      "INFO:lithops.config:Lithops v3.0.0 - Python3.8\n",
      "INFO:lithops.storage.backends.aws_s3.aws_s3:S3 client created - Region: us-east-1\n",
      "INFO:lithops.serverless.backends.aws_lambda.aws_lambda:AWS Lambda client created - Region: us-east-1\n",
      "INFO:lithops.storage.backends.aws_s3.aws_s3:S3 client created - Region: us-east-1\n",
      "INFO:annotation-pipeline:Using cached logs/2023-10-11_13:36:13.csv for statistics\n"
     ]
    }
   ],
   "source": [
    "from annotation_pipeline.pipeline import Pipeline\n",
    "pipeline = Pipeline(\n",
    "    # Input dataset & metabolite database\n",
    "    input_ds, input_db, \n",
    "    # Whether to use the pipeline False to accelerate repeated runs with the same database or dataset\n",
    "    use_ds_cache=True, use_db_cache=True, \n",
    "    # Set to 'auto' to used the hybrid Serverless+VM implementation when available,\n",
    "    # True to force Hybrid mode, or False to force pure Serverless mode.\n",
    "    hybrid_impl='auto'\n",
    ")"
   ]
  },
  {
   "cell_type": "markdown",
   "metadata": {},
   "source": [
    "### Database preprocessing"
   ]
  },
  {
   "cell_type": "code",
   "execution_count": 12,
   "metadata": {
    "ExecuteTime": {
     "end_time": "2021-01-28T18:38:27.695252Z",
     "start_time": "2021-01-28T18:38:27.576317Z"
    }
   },
   "outputs": [
    {
     "name": "stderr",
     "output_type": "stream",
     "text": [
      "INFO:annotation-pipeline:Uploaded 1 molecular databases\n"
     ]
    }
   ],
   "source": [
    "# Upload required molecular databases from local machine\n",
    "pipeline.upload_molecular_databases()"
   ]
  },
  {
   "cell_type": "code",
   "execution_count": 13,
   "metadata": {
    "ExecuteTime": {
     "end_time": "2021-01-28T18:38:27.763560Z",
     "start_time": "2021-01-28T18:38:27.698566Z"
    },
    "pycharm": {
     "name": "#%%\n"
    }
   },
   "outputs": [
    {
     "name": "stderr",
     "output_type": "stream",
     "text": [
      "INFO:lithops.invokers:ExecutorID e782ae-1 | JobID M000 - Selected Runtime: metaspace:01 - 512MB\n",
      "INFO:lithops.invokers:ExecutorID e782ae-1 | JobID M000 - Starting function invocation: generate_formulas() - Total: 84 activations\n",
      "INFO:lithops.invokers:ExecutorID e782ae-1 | JobID M000 - View execution logs at /tmp/lithops-pau/logs/e782ae-1-M000.log\n",
      "INFO:lithops.wait:ExecutorID e782ae-1 - Getting results from 84 function activations\n",
      "/home/pau/.pyenv/versions/3.8.5/lib/python3.8/site-packages/tqdm/auto.py:21: TqdmWarning: IProgress not found. Please update jupyter and ipywidgets. See https://ipywidgets.readthedocs.io/en/stable/user_install.html\n",
      "  from .autonotebook import tqdm as notebook_tqdm\n",
      "INFO:lithops.executors:ExecutorID e782ae-1 - Cleaning temporary data\n",
      "INFO:lithops.invokers:ExecutorID e782ae-1 | JobID M001 - Selected Runtime: metaspace:01 - 512MB\n",
      "INFO:lithops.invokers:ExecutorID e782ae-1 | JobID M001 - Starting function invocation: get_formulas_number_per_chunk() - Total: 32 activations\n",
      "INFO:lithops.invokers:ExecutorID e782ae-1 | JobID M001 - View execution logs at /tmp/lithops-pau/logs/e782ae-1-M001.log\n",
      "INFO:lithops.wait:ExecutorID e782ae-1 - Getting results from 32 function activations\n",
      "INFO:lithops.executors:ExecutorID e782ae-1 - Cleaning temporary data\n",
      "INFO:lithops.invokers:ExecutorID e782ae-1 | JobID M002 - Selected Runtime: metaspace:01 - 512MB\n",
      "INFO:lithops.invokers:ExecutorID e782ae-1 | JobID M002 - Starting function invocation: store_formulas_segments() - Total: 32 activations\n",
      "INFO:lithops.invokers:ExecutorID e782ae-1 | JobID M002 - View execution logs at /tmp/lithops-pau/logs/e782ae-1-M002.log\n",
      "INFO:lithops.wait:ExecutorID e782ae-1 - Getting results from 32 function activations\n",
      "INFO:lithops.executors:ExecutorID e782ae-1 - Cleaning temporary data\n",
      "INFO:annotation-pipeline:Generated 960403 formulas in 256 chunks\n",
      "INFO:lithops.invokers:ExecutorID e782ae-1 | JobID M003 - Selected Runtime: metaspace:01 - 1536MB\n",
      "INFO:lithops.invokers:Runtime metaspace:01 with 1536MB is not yet deployed\n",
      "INFO:lithops.serverless.backends.aws_lambda.aws_lambda:Deploying runtime: metaspace:01 - Memory: 1536 Timeout: 180\n",
      "INFO:lithops.invokers:ExecutorID e782ae-1 | JobID M003 - Starting function invocation: store_formula_to_id_chunk() - Total: 1 activations\n",
      "INFO:lithops.invokers:ExecutorID e782ae-1 | JobID M003 - View execution logs at /tmp/lithops-pau/logs/e782ae-1-M003.log\n",
      "INFO:lithops.wait:ExecutorID e782ae-1 - Getting results from 1 function activations\n",
      "INFO:lithops.executors:ExecutorID e782ae-1 - Cleaning temporary data\n",
      "INFO:annotation-pipeline:Built 1 formula_to_id dictionaries chunks\n",
      "INFO:annotation-pipeline:Built 256 formula segments and 1 formula-to-id chunks\n"
     ]
    }
   ],
   "source": [
    "# Parse the database\n",
    "pipeline.build_database()"
   ]
  },
  {
   "cell_type": "code",
   "execution_count": 14,
   "metadata": {
    "ExecuteTime": {
     "end_time": "2021-01-28T18:38:27.840145Z",
     "start_time": "2021-01-28T18:38:27.764980Z"
    },
    "pycharm": {
     "name": "#%%\n"
    }
   },
   "outputs": [
    {
     "name": "stderr",
     "output_type": "stream",
     "text": [
      "INFO:lithops.invokers:ExecutorID e782ae-1 | JobID M004 - Selected Runtime: metaspace:01 - 2048MB\n",
      "INFO:lithops.invokers:ExecutorID e782ae-1 | JobID M004 - Starting function invocation: calculate_peaks_chunk() - Total: 256 activations\n",
      "INFO:lithops.invokers:ExecutorID e782ae-1 | JobID M004 - View execution logs at /tmp/lithops-pau/logs/e782ae-1-M004.log\n",
      "INFO:lithops.wait:ExecutorID e782ae-1 - Getting results from 256 function activations\n",
      "INFO:lithops.executors:ExecutorID e782ae-1 - Cleaning temporary data\n",
      "INFO:annotation-pipeline:Calculated 3841612 centroids in 256 chunks\n",
      "INFO:annotation-pipeline:Calculated 256 centroid chunks\n"
     ]
    }
   ],
   "source": [
    "# Calculate theoretical centroids for each formula\n",
    "pipeline.calculate_centroids()"
   ]
  },
  {
   "cell_type": "markdown",
   "metadata": {},
   "source": [
    "### Dataset preprocessing"
   ]
  },
  {
   "cell_type": "code",
   "execution_count": 15,
   "metadata": {
    "ExecuteTime": {
     "end_time": "2021-01-28T18:38:27.968140Z",
     "start_time": "2021-01-28T18:38:27.841531Z"
    },
    "pycharm": {
     "metadata": false,
     "name": "#%%\n"
    }
   },
   "outputs": [
    {
     "name": "stderr",
     "output_type": "stream",
     "text": [
      "INFO:annotation-pipeline:Translating IBM COS path to public HTTPS path for example file \"cos://embl-datasets/small/ds.imzML\"\n",
      "INFO:annotation-pipeline:Translating IBM COS path to public HTTPS path for example file \"cos://embl-datasets/small/ds.ibd\"\n"
     ]
    }
   ],
   "source": [
    "# Upload the dataset if needed\n",
    "pipeline.upload_dataset()"
   ]
  },
  {
   "cell_type": "code",
   "execution_count": 16,
   "metadata": {
    "ExecuteTime": {
     "end_time": "2021-01-28T18:38:28.082396Z",
     "start_time": "2021-01-28T18:38:27.969303Z"
    },
    "pycharm": {
     "metadata": false,
     "name": "#%%\n"
    },
    "scrolled": true
   },
   "outputs": [
    {
     "name": "stderr",
     "output_type": "stream",
     "text": [
      "INFO:lithops.invokers:ExecutorID e782ae-1 | JobID A005 - Selected Runtime: metaspace:01 - 2048MB\n",
      "INFO:lithops.invokers:ExecutorID e782ae-1 | JobID A005 - Starting function invocation: get_portable_imzml_reader() - Total: 1 activations\n",
      "INFO:lithops.invokers:ExecutorID e782ae-1 | JobID A005 - View execution logs at /tmp/lithops-pau/logs/e782ae-1-A005.log\n",
      "INFO:lithops.wait:ExecutorID e782ae-1 - Getting results from 1 function activations\n",
      "INFO:lithops.executors:ExecutorID e782ae-1 - Cleaning temporary data\n",
      "INFO:annotation-pipeline:Parsed imzml: 12088 spectra found\n"
     ]
    }
   ],
   "source": [
    "# Load the dataset's parser\n",
    "pipeline.load_ds()"
   ]
  },
  {
   "cell_type": "code",
   "execution_count": 17,
   "metadata": {
    "ExecuteTime": {
     "end_time": "2021-01-28T18:38:28.152249Z",
     "start_time": "2021-01-28T18:38:28.084373Z"
    }
   },
   "outputs": [
    {
     "name": "stderr",
     "output_type": "stream",
     "text": [
      "INFO:lithops.invokers:ExecutorID e782ae-1 | JobID M006 - Selected Runtime: metaspace:01 - 3072MB\n",
      "INFO:lithops.invokers:ExecutorID e782ae-1 | JobID M006 - Starting function invocation: upload_chunk() - Total: 1 activations\n",
      "INFO:lithops.invokers:ExecutorID e782ae-1 | JobID M006 - View execution logs at /tmp/lithops-pau/logs/e782ae-1-M006.log\n",
      "INFO:lithops.wait:ExecutorID e782ae-1 - Getting results from 1 function activations\n",
      "INFO:lithops.executors:ExecutorID e782ae-1 - Cleaning temporary data\n",
      "INFO:annotation-pipeline:Uploaded 1 dataset chunks\n"
     ]
    }
   ],
   "source": [
    "# Parse dataset chunks into IBM COS\n",
    "pipeline.split_ds()"
   ]
  },
  {
   "cell_type": "code",
   "execution_count": 18,
   "metadata": {
    "ExecuteTime": {
     "end_time": "2021-01-28T18:38:28.204568Z",
     "start_time": "2021-01-28T18:38:28.153741Z"
    },
    "pycharm": {
     "metadata": false,
     "name": "#%%\n"
    },
    "scrolled": true
   },
   "outputs": [
    {
     "name": "stderr",
     "output_type": "stream",
     "text": [
      "INFO:annotation-pipeline:Defining dataset segments bounds\n",
      "INFO:lithops.invokers:ExecutorID e782ae-1 | JobID A007 - Selected Runtime: metaspace:01 - 1024MB\n",
      "INFO:lithops.invokers:ExecutorID e782ae-1 | JobID A007 - Starting function invocation: get_segm_bounds() - Total: 1 activations\n",
      "INFO:lithops.invokers:ExecutorID e782ae-1 | JobID A007 - View execution logs at /tmp/lithops-pau/logs/e782ae-1-A007.log\n",
      "INFO:lithops.wait:ExecutorID e782ae-1 - Getting results from 1 function activations\n",
      "INFO:lithops.executors:ExecutorID e782ae-1 - Cleaning temporary data\n",
      "INFO:lithops.invokers:ExecutorID e782ae-1 | JobID M008 - Selected Runtime: metaspace:01 - 2560MB\n",
      "INFO:lithops.invokers:ExecutorID e782ae-1 | JobID M008 - Starting function invocation: segment_spectra_chunk() - Total: 1 activations\n",
      "INFO:lithops.invokers:ExecutorID e782ae-1 | JobID M008 - View execution logs at /tmp/lithops-pau/logs/e782ae-1-M008.log\n",
      "INFO:lithops.wait:ExecutorID e782ae-1 - Getting results from 1 function activations\n",
      "INFO:lithops.executors:ExecutorID e782ae-1 - Cleaning temporary data\n",
      "INFO:lithops.invokers:ExecutorID e782ae-1 | JobID M009 - Selected Runtime: metaspace:01 - 2560MB\n",
      "INFO:lithops.invokers:ExecutorID e782ae-1 | JobID M009 - Starting function invocation: merge_spectra_chunk_segments() - Total: 1 activations\n",
      "INFO:lithops.invokers:ExecutorID e782ae-1 | JobID M009 - View execution logs at /tmp/lithops-pau/logs/e782ae-1-M009.log\n",
      "INFO:lithops.wait:ExecutorID e782ae-1 - Getting results from 1 function activations\n",
      "INFO:lithops.executors:ExecutorID e782ae-1 - Cleaning temporary data\n",
      "INFO:annotation-pipeline:Segmented dataset chunks into 1 segments\n"
     ]
    }
   ],
   "source": [
    "# Sort dataset chunks to ordered dataset segments\n",
    "pipeline.segment_ds()"
   ]
  },
  {
   "cell_type": "code",
   "execution_count": 19,
   "metadata": {
    "ExecuteTime": {
     "end_time": "2021-01-28T18:40:41.064262Z",
     "start_time": "2021-01-28T18:38:28.206667Z"
    },
    "pycharm": {
     "metadata": false,
     "name": "#%%\n"
    }
   },
   "outputs": [
    {
     "name": "stderr",
     "output_type": "stream",
     "text": [
      "INFO:lithops.invokers:ExecutorID e782ae-1 | JobID M010 - Selected Runtime: metaspace:01 - 512MB\n",
      "INFO:lithops.invokers:ExecutorID e782ae-1 | JobID M010 - Starting function invocation: clip_centr_df_chunk() - Total: 256 activations\n",
      "INFO:lithops.invokers:ExecutorID e782ae-1 | JobID M010 - View execution logs at /tmp/lithops-pau/logs/e782ae-1-M010.log\n",
      "INFO:lithops.wait:ExecutorID e782ae-1 - Getting results from 256 function activations\n",
      "INFO:lithops.executors:ExecutorID e782ae-1 - Cleaning temporary data\n",
      "INFO:annotation-pipeline:Prepared 3509505 centroids\n",
      "INFO:annotation-pipeline:Defining centroids segments bounds\n",
      "INFO:lithops.invokers:ExecutorID e782ae-1 | JobID M011 - Selected Runtime: metaspace:01 - 512MB\n",
      "INFO:lithops.invokers:ExecutorID e782ae-1 | JobID M011 - Starting function invocation: get_first_peak_mz() - Total: 256 activations\n",
      "INFO:lithops.invokers:ExecutorID e782ae-1 | JobID M011 - View execution logs at /tmp/lithops-pau/logs/e782ae-1-M011.log\n",
      "INFO:lithops.wait:ExecutorID e782ae-1 - Getting results from 256 function activations\n",
      "INFO:lithops.executors:ExecutorID e782ae-1 - Cleaning temporary data\n",
      "INFO:annotation-pipeline:Generated 350 centroids bounds: 96.9595443244524...1167.4400316055203\n",
      "INFO:lithops.invokers:ExecutorID e782ae-1 | JobID M012 - Selected Runtime: metaspace:01 - 512MB\n",
      "INFO:lithops.invokers:ExecutorID e782ae-1 | JobID M012 - Starting function invocation: segment_centr_chunk() - Total: 256 activations\n",
      "INFO:lithops.invokers:ExecutorID e782ae-1 | JobID M012 - View execution logs at /tmp/lithops-pau/logs/e782ae-1-M012.log\n",
      "INFO:lithops.wait:ExecutorID e782ae-1 - Getting results from 256 function activations\n",
      "INFO:lithops.executors:ExecutorID e782ae-1 - Cleaning temporary data\n",
      "INFO:lithops.invokers:ExecutorID e782ae-1 | JobID M013 - Selected Runtime: metaspace:01 - 2048MB\n",
      "INFO:lithops.invokers:ExecutorID e782ae-1 | JobID M013 - Starting function invocation: merge_centr_df_segments() - Total: 32 activations\n",
      "INFO:lithops.invokers:ExecutorID e782ae-1 | JobID M013 - View execution logs at /tmp/lithops-pau/logs/e782ae-1-M013.log\n",
      "INFO:lithops.wait:ExecutorID e782ae-1 - Getting results from 32 function activations\n",
      "INFO:lithops.executors:ExecutorID e782ae-1 - Cleaning temporary data\n",
      "INFO:annotation-pipeline:Segmented centroids chunks into 350 segments\n"
     ]
    }
   ],
   "source": [
    "# Sort database chunks to ordered database segments\n",
    "pipeline.segment_centroids()"
   ]
  },
  {
   "cell_type": "markdown",
   "metadata": {
    "pycharm": {
     "name": "#%% md\n"
    }
   },
   "source": [
    "### Engine"
   ]
  },
  {
   "cell_type": "code",
   "execution_count": 20,
   "metadata": {
    "ExecuteTime": {
     "end_time": "2021-01-28T18:41:56.621478Z",
     "start_time": "2021-01-28T18:40:41.065845Z"
    }
   },
   "outputs": [
    {
     "name": "stderr",
     "output_type": "stream",
     "text": [
      "INFO:annotation-pipeline:Annotating...\n",
      "INFO:lithops.invokers:ExecutorID e782ae-1 | JobID M014 - Selected Runtime: metaspace:01 - 2048MB\n",
      "INFO:lithops.invokers:ExecutorID e782ae-1 | JobID M014 - Starting function invocation: process_centr_segment() - Total: 350 activations\n",
      "INFO:lithops.invokers:ExecutorID e782ae-1 | JobID M014 - View execution logs at /tmp/lithops-pau/logs/e782ae-1-M014.log\n",
      "INFO:lithops.wait:ExecutorID e782ae-1 - Getting results from 350 function activations\n",
      "INFO:lithops.executors:ExecutorID e782ae-1 - Cleaning temporary data\n",
      "INFO:annotation-pipeline:Metrics calculated: 2336\n"
     ]
    }
   ],
   "source": [
    "# Annotate the molecular database over the dataset by creating images into IBM COS\n",
    "pipeline.annotate()"
   ]
  },
  {
   "cell_type": "code",
   "execution_count": 23,
   "metadata": {
    "ExecuteTime": {
     "end_time": "2021-01-28T18:42:44.872543Z",
     "start_time": "2021-01-28T18:41:56.622804Z"
    }
   },
   "outputs": [
    {
     "name": "stderr",
     "output_type": "stream",
     "text": [
      "INFO:lithops.invokers:ExecutorID e782ae-1 | JobID M019 - Selected Runtime: metaspace:01 - 1536MB\n",
      "INFO:lithops.job.serialize:module_name: pickle, origin: /home/pau/.pyenv/versions/3.8.5/lib/python3.8/pickle.py\n",
      "INFO:lithops.job.serialize:module_name: _io, origin: built-in\n",
      "INFO:lithops.job.serialize:module_name: annotation_pipeline.formula_parser, origin: /home/pau/CLOUDLAB/serverless_benchmarks/Lithops-METASPACE/annotation_pipeline/formula_parser.py\n",
      "INFO:lithops.job.serialize:module_name: pandas, origin: /home/pau/.pyenv/versions/3.8.5/lib/python3.8/site-packages/pandas/__init__.py\n",
      "INFO:lithops.job.serialize:module_name: collections, origin: /home/pau/.pyenv/versions/3.8.5/lib/python3.8/collections/__init__.py\n",
      "INFO:lithops.job.serialize:module_name: annotation_pipeline.utils, origin: /home/pau/CLOUDLAB/serverless_benchmarks/Lithops-METASPACE/annotation_pipeline/utils.py\n",
      "INFO:lithops.job.serialize:module_name: itertools, origin: built-in\n",
      "INFO:lithops.job.serialize:module_name: logging, origin: /home/pau/.pyenv/versions/3.8.5/lib/python3.8/logging/__init__.py\n",
      "INFO:lithops.job.serialize:module_name: annotation_pipeline.fdr, origin: /home/pau/CLOUDLAB/serverless_benchmarks/Lithops-METASPACE/annotation_pipeline/fdr.py\n",
      "INFO:lithops.job.serialize:module_name: numpy, origin: /home/pau/.pyenv/versions/3.8.5/lib/python3.8/site-packages/numpy/__init__.py\n",
      "INFO:lithops.invokers:ExecutorID e782ae-1 | JobID M019 - Starting function invocation: build_ranking() - Total: 24 activations\n",
      "INFO:lithops.invokers:ExecutorID e782ae-1 | JobID M019 - View execution logs at /tmp/lithops-pau/logs/e782ae-1-M019.log\n",
      "INFO:lithops.wait:ExecutorID e782ae-1 - Getting results from 24 function activations\n",
      "INFO:lithops.executors:ExecutorID e782ae-1 - Cleaning temporary data\n",
      "INFO:lithops.invokers:ExecutorID e782ae-1 | JobID M020 - Selected Runtime: metaspace:01 - 256MB\n",
      "INFO:lithops.job.serialize:module_name: pandas.core.series, origin: /home/pau/.pyenv/versions/3.8.5/lib/python3.8/site-packages/pandas/core/series.py\n",
      "INFO:lithops.job.serialize:module_name: pandas.core.computation.parsing, origin: /home/pau/.pyenv/versions/3.8.5/lib/python3.8/site-packages/pandas/core/computation/parsing.py\n",
      "INFO:lithops.job.serialize:module_name: json.decoder, origin: /home/pau/.pyenv/versions/3.8.5/lib/python3.8/json/decoder.py\n",
      "INFO:lithops.job.serialize:module_name: pandas.core.indexers.utils, origin: /home/pau/.pyenv/versions/3.8.5/lib/python3.8/site-packages/pandas/core/indexers/utils.py\n",
      "INFO:lithops.job.serialize:module_name: pandas.core.apply, origin: /home/pau/.pyenv/versions/3.8.5/lib/python3.8/site-packages/pandas/core/apply.py\n",
      "INFO:lithops.job.serialize:module_name: pandas.core.sorting, origin: /home/pau/.pyenv/versions/3.8.5/lib/python3.8/site-packages/pandas/core/sorting.py\n",
      "INFO:lithops.job.serialize:module_name: pandas._libs.tslibs.dtypes, origin: /home/pau/.pyenv/versions/3.8.5/lib/python3.8/site-packages/pandas/_libs/tslibs/dtypes.cpython-38-x86_64-linux-gnu.so\n",
      "INFO:lithops.job.serialize:module_name: pandas.core.dtypes.missing, origin: /home/pau/.pyenv/versions/3.8.5/lib/python3.8/site-packages/pandas/core/dtypes/missing.py\n",
      "INFO:lithops.job.serialize:module_name: pandas.core.algorithms, origin: /home/pau/.pyenv/versions/3.8.5/lib/python3.8/site-packages/pandas/core/algorithms.py\n",
      "INFO:lithops.job.serialize:module_name: numbers, origin: /home/pau/.pyenv/versions/3.8.5/lib/python3.8/numbers.py\n",
      "INFO:lithops.job.serialize:module_name: pandas.core.sample, origin: /home/pau/.pyenv/versions/3.8.5/lib/python3.8/site-packages/pandas/core/sample.py\n",
      "INFO:lithops.job.serialize:module_name: pandas.core.groupby, origin: /home/pau/.pyenv/versions/3.8.5/lib/python3.8/site-packages/pandas/core/groupby/__init__.py\n",
      "INFO:lithops.job.serialize:module_name: pandas.core.internals.array_manager, origin: /home/pau/.pyenv/versions/3.8.5/lib/python3.8/site-packages/pandas/core/internals/array_manager.py\n",
      "INFO:lithops.job.serialize:module_name: pandas._libs.tslibs.parsing, origin: /home/pau/.pyenv/versions/3.8.5/lib/python3.8/site-packages/pandas/_libs/tslibs/parsing.cpython-38-x86_64-linux-gnu.so\n",
      "INFO:lithops.job.serialize:module_name: pandas.core.dtypes.inference, origin: /home/pau/.pyenv/versions/3.8.5/lib/python3.8/site-packages/pandas/core/dtypes/inference.py\n",
      "INFO:lithops.job.serialize:module_name: pandas.core.indexes.api, origin: /home/pau/.pyenv/versions/3.8.5/lib/python3.8/site-packages/pandas/core/indexes/api.py\n",
      "INFO:lithops.job.serialize:module_name: pandas.util._validators, origin: /home/pau/.pyenv/versions/3.8.5/lib/python3.8/site-packages/pandas/util/_validators.py\n",
      "INFO:lithops.job.serialize:module_name: pandas._libs.internals, origin: /home/pau/.pyenv/versions/3.8.5/lib/python3.8/site-packages/pandas/_libs/internals.cpython-38-x86_64-linux-gnu.so\n",
      "INFO:lithops.job.serialize:module_name: pandas.core.arrays.base, origin: /home/pau/.pyenv/versions/3.8.5/lib/python3.8/site-packages/pandas/core/arrays/base.py\n",
      "INFO:lithops.job.serialize:module_name: pandas._config.config, origin: /home/pau/.pyenv/versions/3.8.5/lib/python3.8/site-packages/pandas/_config/config.py\n",
      "INFO:lithops.job.serialize:module_name: pandas.core.dtypes.generic, origin: /home/pau/.pyenv/versions/3.8.5/lib/python3.8/site-packages/pandas/core/dtypes/generic.py\n",
      "INFO:lithops.job.serialize:module_name: pandas.core.base, origin: /home/pau/.pyenv/versions/3.8.5/lib/python3.8/site-packages/pandas/core/base.py\n",
      "INFO:lithops.job.serialize:module_name: pandas.core.ops.common, origin: /home/pau/.pyenv/versions/3.8.5/lib/python3.8/site-packages/pandas/core/ops/common.py\n",
      "INFO:lithops.job.serialize:module_name: pandas.io.formats.format, origin: /home/pau/.pyenv/versions/3.8.5/lib/python3.8/site-packages/pandas/io/formats/format.py\n",
      "INFO:lithops.job.serialize:module_name: pandas.core.dtypes.astype, origin: /home/pau/.pyenv/versions/3.8.5/lib/python3.8/site-packages/pandas/core/dtypes/astype.py\n",
      "INFO:lithops.job.serialize:module_name: pandas.errors, origin: /home/pau/.pyenv/versions/3.8.5/lib/python3.8/site-packages/pandas/errors/__init__.py\n",
      "INFO:lithops.job.serialize:module_name: pandas.compat.numpy.function, origin: /home/pau/.pyenv/versions/3.8.5/lib/python3.8/site-packages/pandas/compat/numpy/function.py\n",
      "INFO:lithops.job.serialize:module_name: pandas.core.indexes.period, origin: /home/pau/.pyenv/versions/3.8.5/lib/python3.8/site-packages/pandas/core/indexes/period.py\n",
      "INFO:lithops.job.serialize:module_name: pandas, origin: /home/pau/.pyenv/versions/3.8.5/lib/python3.8/site-packages/pandas/__init__.py\n",
      "INFO:lithops.job.serialize:module_name: pandas.core.arrays.floating, origin: /home/pau/.pyenv/versions/3.8.5/lib/python3.8/site-packages/pandas/core/arrays/floating.py\n",
      "INFO:lithops.job.serialize:module_name: re, origin: /home/pau/.pyenv/versions/3.8.5/lib/python3.8/re.py\n",
      "INFO:lithops.job.serialize:module_name: pandas._libs.algos, origin: /home/pau/.pyenv/versions/3.8.5/lib/python3.8/site-packages/pandas/_libs/algos.cpython-38-x86_64-linux-gnu.so\n",
      "INFO:lithops.job.serialize:module_name: pandas.core.arrays.numpy_, origin: /home/pau/.pyenv/versions/3.8.5/lib/python3.8/site-packages/pandas/core/arrays/numpy_.py\n",
      "INFO:lithops.job.serialize:module_name: pickle, origin: /home/pau/.pyenv/versions/3.8.5/lib/python3.8/pickle.py\n",
      "INFO:lithops.job.serialize:module_name: pandas.core.reshape.concat, origin: /home/pau/.pyenv/versions/3.8.5/lib/python3.8/site-packages/pandas/core/reshape/concat.py\n",
      "INFO:lithops.job.serialize:module_name: pandas.core, origin: /home/pau/.pyenv/versions/3.8.5/lib/python3.8/site-packages/pandas/core/__init__.py\n",
      "INFO:lithops.job.serialize:module_name: pandas.core.tools.datetimes, origin: /home/pau/.pyenv/versions/3.8.5/lib/python3.8/site-packages/pandas/core/tools/datetimes.py\n",
      "INFO:lithops.job.serialize:module_name: pandas.util.version, origin: /home/pau/.pyenv/versions/3.8.5/lib/python3.8/site-packages/pandas/util/version/__init__.py\n",
      "INFO:lithops.job.serialize:module_name: pandas.core.methods.selectn, origin: /home/pau/.pyenv/versions/3.8.5/lib/python3.8/site-packages/pandas/core/methods/selectn.py\n",
      "INFO:lithops.job.serialize:module_name: codecs, origin: /home/pau/.pyenv/versions/3.8.5/lib/python3.8/codecs.py\n",
      "INFO:lithops.job.serialize:module_name: pandas.core.arrays.sparse.dtype, origin: /home/pau/.pyenv/versions/3.8.5/lib/python3.8/site-packages/pandas/core/arrays/sparse/dtype.py\n",
      "INFO:lithops.job.serialize:module_name: builtins, origin: None\n",
      "INFO:lithops.job.serialize:module_name: pandas.core.indexing, origin: /home/pau/.pyenv/versions/3.8.5/lib/python3.8/site-packages/pandas/core/indexing.py\n",
      "INFO:lithops.job.serialize:module_name: pandas._libs.tslibs.timedeltas, origin: /home/pau/.pyenv/versions/3.8.5/lib/python3.8/site-packages/pandas/_libs/tslibs/timedeltas.cpython-38-x86_64-linux-gnu.so\n",
      "INFO:lithops.job.serialize:module_name: weakref, origin: /home/pau/.pyenv/versions/3.8.5/lib/python3.8/weakref.py\n",
      "INFO:lithops.job.serialize:module_name: pandas.core.missing, origin: /home/pau/.pyenv/versions/3.8.5/lib/python3.8/site-packages/pandas/core/missing.py\n",
      "INFO:lithops.job.serialize:module_name: pandas.core.internals.managers, origin: /home/pau/.pyenv/versions/3.8.5/lib/python3.8/site-packages/pandas/core/internals/managers.py\n",
      "INFO:lithops.job.serialize:module_name: typing, origin: /home/pau/.pyenv/versions/3.8.5/lib/python3.8/typing.py\n",
      "INFO:lithops.job.serialize:module_name: functools, origin: /home/pau/.pyenv/versions/3.8.5/lib/python3.8/functools.py\n",
      "INFO:lithops.job.serialize:module_name: pandas._libs.tslibs.period, origin: /home/pau/.pyenv/versions/3.8.5/lib/python3.8/site-packages/pandas/_libs/tslibs/period.cpython-38-x86_64-linux-gnu.so\n",
      "INFO:lithops.job.serialize:module_name: inspect, origin: /home/pau/.pyenv/versions/3.8.5/lib/python3.8/inspect.py\n",
      "INFO:lithops.job.serialize:module_name: pandas.core.arrays.datetimes, origin: /home/pau/.pyenv/versions/3.8.5/lib/python3.8/site-packages/pandas/core/arrays/datetimes.py\n",
      "INFO:lithops.job.serialize:module_name: gc, origin: built-in\n",
      "INFO:lithops.job.serialize:module_name: numpy.ma, origin: /home/pau/.pyenv/versions/3.8.5/lib/python3.8/site-packages/numpy/ma/__init__.py\n",
      "INFO:lithops.job.serialize:module_name: pandas.core.dtypes.dtypes, origin: /home/pau/.pyenv/versions/3.8.5/lib/python3.8/site-packages/pandas/core/dtypes/dtypes.py\n",
      "INFO:lithops.job.serialize:module_name: pandas.core.arrays.integer, origin: /home/pau/.pyenv/versions/3.8.5/lib/python3.8/site-packages/pandas/core/arrays/integer.py\n",
      "INFO:lithops.job.serialize:module_name: pandas.core.indexes.datetimes, origin: /home/pau/.pyenv/versions/3.8.5/lib/python3.8/site-packages/pandas/core/indexes/datetimes.py\n",
      "INFO:lithops.job.serialize:module_name: pandas.core.arraylike, origin: /home/pau/.pyenv/versions/3.8.5/lib/python3.8/site-packages/pandas/core/arraylike.py\n",
      "INFO:lithops.job.serialize:module_name: pandas._libs.tslibs.timezones, origin: /home/pau/.pyenv/versions/3.8.5/lib/python3.8/site-packages/pandas/_libs/tslibs/timezones.cpython-38-x86_64-linux-gnu.so\n",
      "INFO:lithops.job.serialize:module_name: pandas._typing, origin: /home/pau/.pyenv/versions/3.8.5/lib/python3.8/site-packages/pandas/_typing.py\n",
      "INFO:lithops.job.serialize:module_name: pandas.core.construction, origin: /home/pau/.pyenv/versions/3.8.5/lib/python3.8/site-packages/pandas/core/construction.py\n",
      "INFO:lithops.job.serialize:module_name: pandas.core.arrays.arrow.array, origin: /home/pau/.pyenv/versions/3.8.5/lib/python3.8/site-packages/pandas/core/arrays/arrow/array.py\n",
      "INFO:lithops.job.serialize:module_name: pandas.core.window.ewm, origin: /home/pau/.pyenv/versions/3.8.5/lib/python3.8/site-packages/pandas/core/window/ewm.py\n",
      "INFO:lithops.job.serialize:module_name: annotation_pipeline.utils, origin: /home/pau/CLOUDLAB/serverless_benchmarks/Lithops-METASPACE/annotation_pipeline/utils.py\n",
      "INFO:lithops.job.serialize:module_name: numpy, origin: /home/pau/.pyenv/versions/3.8.5/lib/python3.8/site-packages/numpy/__init__.py\n",
      "INFO:lithops.job.serialize:module_name: collections.abc, origin: /home/pau/.pyenv/versions/3.8.5/lib/python3.8/collections/abc.py\n",
      "INFO:lithops.job.serialize:module_name: pandas.core.indexes.base, origin: /home/pau/.pyenv/versions/3.8.5/lib/python3.8/site-packages/pandas/core/indexes/base.py\n",
      "INFO:lithops.job.serialize:module_name: _operator, origin: built-in\n",
      "INFO:lithops.job.serialize:module_name: pandas.core.roperator, origin: /home/pau/.pyenv/versions/3.8.5/lib/python3.8/site-packages/pandas/core/roperator.py\n",
      "INFO:lithops.job.serialize:module_name: pandas.core.methods.describe, origin: /home/pau/.pyenv/versions/3.8.5/lib/python3.8/site-packages/pandas/core/methods/describe.py\n",
      "INFO:lithops.job.serialize:module_name: collections, origin: /home/pau/.pyenv/versions/3.8.5/lib/python3.8/collections/__init__.py\n",
      "INFO:lithops.job.serialize:module_name: pandas.core.indexes.multi, origin: /home/pau/.pyenv/versions/3.8.5/lib/python3.8/site-packages/pandas/core/indexes/multi.py\n",
      "INFO:lithops.job.serialize:module_name: pandas._libs.lib, origin: /home/pau/.pyenv/versions/3.8.5/lib/python3.8/site-packages/pandas/_libs/lib.cpython-38-x86_64-linux-gnu.so\n",
      "INFO:lithops.job.serialize:module_name: pandas.core.ops, origin: /home/pau/.pyenv/versions/3.8.5/lib/python3.8/site-packages/pandas/core/ops/__init__.py\n",
      "INFO:lithops.job.serialize:module_name: pandas.core.tools, origin: /home/pau/.pyenv/versions/3.8.5/lib/python3.8/site-packages/pandas/core/tools/__init__.py\n",
      "INFO:lithops.job.serialize:module_name: operator, origin: /home/pau/.pyenv/versions/3.8.5/lib/python3.8/operator.py\n",
      "INFO:lithops.job.serialize:module_name: pandas.core.arrays.string_, origin: /home/pau/.pyenv/versions/3.8.5/lib/python3.8/site-packages/pandas/core/arrays/string_.py\n",
      "INFO:lithops.job.serialize:module_name: pandas.core.internals.blocks, origin: /home/pau/.pyenv/versions/3.8.5/lib/python3.8/site-packages/pandas/core/internals/blocks.py\n",
      "INFO:lithops.job.serialize:module_name: pandas.io.formats.info, origin: /home/pau/.pyenv/versions/3.8.5/lib/python3.8/site-packages/pandas/io/formats/info.py\n",
      "INFO:lithops.job.serialize:module_name: pandas.core.accessor, origin: /home/pau/.pyenv/versions/3.8.5/lib/python3.8/site-packages/pandas/core/accessor.py\n",
      "INFO:lithops.job.serialize:module_name: json, origin: /home/pau/.pyenv/versions/3.8.5/lib/python3.8/json/__init__.py\n",
      "INFO:lithops.job.serialize:module_name: pandas.core.indexes, origin: /home/pau/.pyenv/versions/3.8.5/lib/python3.8/site-packages/pandas/core/indexes/__init__.py\n",
      "INFO:lithops.job.serialize:module_name: pandas._libs.tslib, origin: /home/pau/.pyenv/versions/3.8.5/lib/python3.8/site-packages/pandas/_libs/tslib.cpython-38-x86_64-linux-gnu.so\n",
      "INFO:lithops.job.serialize:module_name: os, origin: /home/pau/.pyenv/versions/3.8.5/lib/python3.8/os.py\n",
      "INFO:lithops.job.serialize:module_name: annotation_pipeline.fdr, origin: /home/pau/CLOUDLAB/serverless_benchmarks/Lithops-METASPACE/annotation_pipeline/fdr.py\n",
      "INFO:lithops.job.serialize:module_name: pandas._libs.tslibs.np_datetime, origin: /home/pau/.pyenv/versions/3.8.5/lib/python3.8/site-packages/pandas/_libs/tslibs/np_datetime.cpython-38-x86_64-linux-gnu.so\n",
      "INFO:lithops.job.serialize:module_name: pandas.core.groupby.generic, origin: /home/pau/.pyenv/versions/3.8.5/lib/python3.8/site-packages/pandas/core/groupby/generic.py\n",
      "INFO:lithops.job.serialize:module_name: pandas.util._exceptions, origin: /home/pau/.pyenv/versions/3.8.5/lib/python3.8/site-packages/pandas/util/_exceptions.py\n",
      "INFO:lithops.job.serialize:module_name: pandas.core.indexes.timedeltas, origin: /home/pau/.pyenv/versions/3.8.5/lib/python3.8/site-packages/pandas/core/indexes/timedeltas.py\n",
      "INFO:lithops.job.serialize:module_name: pandas._libs.tslibs.conversion, origin: /home/pau/.pyenv/versions/3.8.5/lib/python3.8/site-packages/pandas/_libs/tslibs/conversion.cpython-38-x86_64-linux-gnu.so\n",
      "INFO:lithops.job.serialize:module_name: pandas.core.internals.construction, origin: /home/pau/.pyenv/versions/3.8.5/lib/python3.8/site-packages/pandas/core/internals/construction.py\n",
      "INFO:lithops.job.serialize:module_name: pandas.core.window.rolling, origin: /home/pau/.pyenv/versions/3.8.5/lib/python3.8/site-packages/pandas/core/window/rolling.py\n",
      "INFO:lithops.job.serialize:module_name: logging, origin: /home/pau/.pyenv/versions/3.8.5/lib/python3.8/logging/__init__.py\n",
      "INFO:lithops.job.serialize:module_name: itertools, origin: built-in\n",
      "INFO:lithops.job.serialize:module_name: pandas.core.dtypes.base, origin: /home/pau/.pyenv/versions/3.8.5/lib/python3.8/site-packages/pandas/core/dtypes/base.py\n",
      "INFO:lithops.job.serialize:module_name: pandas.core.arrays.arrow.dtype, origin: /home/pau/.pyenv/versions/3.8.5/lib/python3.8/site-packages/pandas/core/arrays/arrow/dtype.py\n",
      "INFO:lithops.job.serialize:module_name: pandas._libs.tslibs.nattype, origin: /home/pau/.pyenv/versions/3.8.5/lib/python3.8/site-packages/pandas/_libs/tslibs/nattype.cpython-38-x86_64-linux-gnu.so\n",
      "INFO:lithops.job.serialize:module_name: pandas.core.dtypes.common, origin: /home/pau/.pyenv/versions/3.8.5/lib/python3.8/site-packages/pandas/core/dtypes/common.py\n",
      "INFO:lithops.job.serialize:module_name: pandas.io, origin: /home/pau/.pyenv/versions/3.8.5/lib/python3.8/site-packages/pandas/io/__init__.py\n",
      "INFO:lithops.job.serialize:module_name: sys, origin: None\n",
      "INFO:lithops.job.serialize:module_name: decimal, origin: /home/pau/.pyenv/versions/3.8.5/lib/python3.8/decimal.py\n",
      "INFO:lithops.job.serialize:module_name: pandas.io.pickle, origin: /home/pau/.pyenv/versions/3.8.5/lib/python3.8/site-packages/pandas/io/pickle.py\n",
      "INFO:lithops.job.serialize:module_name: datetime, origin: /home/pau/.pyenv/versions/3.8.5/lib/python3.8/datetime.py\n",
      "INFO:lithops.job.serialize:module_name: pandas._libs.missing, origin: /home/pau/.pyenv/versions/3.8.5/lib/python3.8/site-packages/pandas/_libs/missing.cpython-38-x86_64-linux-gnu.so\n",
      "INFO:lithops.job.serialize:module_name: importlib, origin: /home/pau/.pyenv/versions/3.8.5/lib/python3.8/importlib/__init__.py\n",
      "INFO:lithops.job.serialize:module_name: pandas._libs.tslibs.offsets, origin: /home/pau/.pyenv/versions/3.8.5/lib/python3.8/site-packages/pandas/_libs/tslibs/offsets.cpython-38-x86_64-linux-gnu.so\n",
      "INFO:lithops.job.serialize:module_name: pandas.core.computation, origin: /home/pau/.pyenv/versions/3.8.5/lib/python3.8/site-packages/pandas/core/computation/__init__.py\n",
      "INFO:lithops.job.serialize:module_name: pandas.core.arrays, origin: /home/pau/.pyenv/versions/3.8.5/lib/python3.8/site-packages/pandas/core/arrays/__init__.py\n",
      "INFO:lithops.job.serialize:module_name: pandas.core.flags, origin: /home/pau/.pyenv/versions/3.8.5/lib/python3.8/site-packages/pandas/core/flags.py\n",
      "INFO:lithops.job.serialize:module_name: pandas.core.window.expanding, origin: /home/pau/.pyenv/versions/3.8.5/lib/python3.8/site-packages/pandas/core/window/expanding.py\n",
      "INFO:lithops.job.serialize:module_name: pandas.core.nanops, origin: /home/pau/.pyenv/versions/3.8.5/lib/python3.8/site-packages/pandas/core/nanops.py\n",
      "INFO:lithops.job.serialize:module_name: pandas.core.arrays.timedeltas, origin: /home/pau/.pyenv/versions/3.8.5/lib/python3.8/site-packages/pandas/core/arrays/timedeltas.py\n",
      "INFO:lithops.job.serialize:module_name: pandas.core.dtypes.cast, origin: /home/pau/.pyenv/versions/3.8.5/lib/python3.8/site-packages/pandas/core/dtypes/cast.py\n",
      "INFO:lithops.job.serialize:module_name: pandas.compat._optional, origin: /home/pau/.pyenv/versions/3.8.5/lib/python3.8/site-packages/pandas/compat/_optional.py\n",
      "INFO:lithops.job.serialize:module_name: warnings, origin: /home/pau/.pyenv/versions/3.8.5/lib/python3.8/warnings.py\n",
      "INFO:lithops.job.serialize:module_name: pandas.io._util, origin: /home/pau/.pyenv/versions/3.8.5/lib/python3.8/site-packages/pandas/io/_util.py\n",
      "INFO:lithops.job.serialize:module_name: pandas._config, origin: /home/pau/.pyenv/versions/3.8.5/lib/python3.8/site-packages/pandas/_config/__init__.py\n",
      "INFO:lithops.job.serialize:module_name: pandas.util._decorators, origin: /home/pau/.pyenv/versions/3.8.5/lib/python3.8/site-packages/pandas/util/_decorators.py\n",
      "INFO:lithops.job.serialize:module_name: pandas.plotting._core, origin: /home/pau/.pyenv/versions/3.8.5/lib/python3.8/site-packages/pandas/plotting/_core.py\n",
      "INFO:lithops.job.serialize:module_name: pandas.core.arrays.arrow, origin: /home/pau/.pyenv/versions/3.8.5/lib/python3.8/site-packages/pandas/core/arrays/arrow/__init__.py\n",
      "INFO:lithops.job.serialize:module_name: pandas.core.generic, origin: /home/pau/.pyenv/versions/3.8.5/lib/python3.8/site-packages/pandas/core/generic.py\n",
      "INFO:lithops.job.serialize:module_name: pandas._libs.tslibs.timestamps, origin: /home/pau/.pyenv/versions/3.8.5/lib/python3.8/site-packages/pandas/_libs/tslibs/timestamps.cpython-38-x86_64-linux-gnu.so\n",
      "INFO:lithops.job.serialize:module_name: pandas._libs.tslibs.strptime, origin: /home/pau/.pyenv/versions/3.8.5/lib/python3.8/site-packages/pandas/_libs/tslibs/strptime.cpython-38-x86_64-linux-gnu.so\n",
      "INFO:lithops.job.serialize:module_name: pandas.core.indexes.range, origin: /home/pau/.pyenv/versions/3.8.5/lib/python3.8/site-packages/pandas/core/indexes/range.py\n",
      "INFO:lithops.job.serialize:module_name: pandas.core.reshape, origin: /home/pau/.pyenv/versions/3.8.5/lib/python3.8/site-packages/pandas/core/reshape/__init__.py\n",
      "INFO:lithops.job.serialize:module_name: pandas.core.common, origin: /home/pau/.pyenv/versions/3.8.5/lib/python3.8/site-packages/pandas/core/common.py\n",
      "INFO:lithops.job.serialize:module_name: pandas._libs.reshape, origin: /home/pau/.pyenv/versions/3.8.5/lib/python3.8/site-packages/pandas/_libs/reshape.cpython-38-x86_64-linux-gnu.so\n"
     ]
    },
    {
     "ename": "TypeError",
     "evalue": "sequence item 7: expected str instance, NoneType found",
     "output_type": "error",
     "traceback": [
      "\u001b[0;31m---------------------------------------------------------------------------\u001b[0m",
      "\u001b[0;31mTypeError\u001b[0m                                 Traceback (most recent call last)",
      "Cell \u001b[0;32mIn[23], line 2\u001b[0m\n\u001b[1;32m      1\u001b[0m \u001b[38;5;66;03m# Discover expected false annotations by FDR (False-Discovery-Rate)\u001b[39;00m\n\u001b[0;32m----> 2\u001b[0m \u001b[43mpipeline\u001b[49m\u001b[38;5;241;43m.\u001b[39;49m\u001b[43mrun_fdr\u001b[49m\u001b[43m(\u001b[49m\u001b[43m)\u001b[49m\n",
      "File \u001b[0;32m~/CLOUDLAB/serverless_benchmarks/Lithops-METASPACE/annotation_pipeline/pipeline.py:341\u001b[0m, in \u001b[0;36mPipeline.run_fdr\u001b[0;34m(self, use_cache)\u001b[0m\n\u001b[1;32m    336\u001b[0m     \u001b[38;5;28;01melse\u001b[39;00m:\n\u001b[1;32m    337\u001b[0m         rankings_df \u001b[38;5;241m=\u001b[39m build_fdr_rankings(\n\u001b[1;32m    338\u001b[0m             \u001b[38;5;28mself\u001b[39m\u001b[38;5;241m.\u001b[39mlithops_executor, \u001b[38;5;28mself\u001b[39m\u001b[38;5;241m.\u001b[39mds_config, \u001b[38;5;28mself\u001b[39m\u001b[38;5;241m.\u001b[39mdb_config, \u001b[38;5;28mself\u001b[39m\u001b[38;5;241m.\u001b[39mmols_dbs_cobjects,\n\u001b[1;32m    339\u001b[0m             \u001b[38;5;28mself\u001b[39m\u001b[38;5;241m.\u001b[39mformula_to_id_cobjects, \u001b[38;5;28mself\u001b[39m\u001b[38;5;241m.\u001b[39mformula_metrics_df\n\u001b[1;32m    340\u001b[0m         )\n\u001b[0;32m--> 341\u001b[0m         \u001b[38;5;28mself\u001b[39m\u001b[38;5;241m.\u001b[39mfdrs \u001b[38;5;241m=\u001b[39m \u001b[43mcalculate_fdrs\u001b[49m\u001b[43m(\u001b[49m\u001b[38;5;28;43mself\u001b[39;49m\u001b[38;5;241;43m.\u001b[39;49m\u001b[43mlithops_executor\u001b[49m\u001b[43m,\u001b[49m\u001b[43m \u001b[49m\u001b[43mrankings_df\u001b[49m\u001b[43m)\u001b[49m\n\u001b[1;32m    342\u001b[0m     \u001b[38;5;28mself\u001b[39m\u001b[38;5;241m.\u001b[39mcacher\u001b[38;5;241m.\u001b[39msave(\u001b[38;5;28mself\u001b[39m\u001b[38;5;241m.\u001b[39mfdrs, cache_key)\n\u001b[1;32m    344\u001b[0m logger\u001b[38;5;241m.\u001b[39minfo(\u001b[38;5;124m'\u001b[39m\u001b[38;5;124mNumber of annotations at with FDR less than:\u001b[39m\u001b[38;5;124m'\u001b[39m)\n",
      "File \u001b[0;32m~/CLOUDLAB/serverless_benchmarks/Lithops-METASPACE/annotation_pipeline/fdr.py:126\u001b[0m, in \u001b[0;36mcalculate_fdrs\u001b[0;34m(pw, rankings_df)\u001b[0m\n\u001b[1;32m    123\u001b[0m         ranking_jobs\u001b[38;5;241m.\u001b[39mappend((target_row, decoy_rows\u001b[38;5;241m.\u001b[39mcobject\u001b[38;5;241m.\u001b[39mtolist()))\n\u001b[1;32m    125\u001b[0m memory_capacity_mb \u001b[38;5;241m=\u001b[39m \u001b[38;5;241m256\u001b[39m\n\u001b[0;32m--> 126\u001b[0m futures \u001b[38;5;241m=\u001b[39m \u001b[43mpw\u001b[49m\u001b[38;5;241;43m.\u001b[39;49m\u001b[43mmap\u001b[49m\u001b[43m(\u001b[49m\u001b[43mmerge_rankings\u001b[49m\u001b[43m,\u001b[49m\u001b[43m \u001b[49m\u001b[43mranking_jobs\u001b[49m\u001b[43m,\u001b[49m\u001b[43m \u001b[49m\u001b[43mruntime_memory\u001b[49m\u001b[38;5;241;43m=\u001b[39;49m\u001b[43mmemory_capacity_mb\u001b[49m\u001b[43m)\u001b[49m\n\u001b[1;32m    127\u001b[0m results \u001b[38;5;241m=\u001b[39m pw\u001b[38;5;241m.\u001b[39mget_result(futures)\n\u001b[1;32m    128\u001b[0m PipelineStats\u001b[38;5;241m.\u001b[39mappend_func(futures, memory_mb\u001b[38;5;241m=\u001b[39mmemory_capacity_mb)\n",
      "File \u001b[0;32m~/.pyenv/versions/3.8.5/lib/python3.8/site-packages/lithops/executors.py:249\u001b[0m, in \u001b[0;36mFunctionExecutor.map\u001b[0;34m(self, map_function, map_iterdata, chunksize, extra_args, extra_env, runtime_memory, obj_chunk_size, obj_chunk_number, obj_newline, timeout, include_modules, exclude_modules)\u001b[0m\n\u001b[1;32m    245\u001b[0m \u001b[38;5;28mself\u001b[39m\u001b[38;5;241m.\u001b[39mlast_call \u001b[38;5;241m=\u001b[39m \u001b[38;5;124m'\u001b[39m\u001b[38;5;124mmap\u001b[39m\u001b[38;5;124m'\u001b[39m\n\u001b[1;32m    247\u001b[0m runtime_meta \u001b[38;5;241m=\u001b[39m \u001b[38;5;28mself\u001b[39m\u001b[38;5;241m.\u001b[39minvoker\u001b[38;5;241m.\u001b[39mselect_runtime(job_id, runtime_memory)\n\u001b[0;32m--> 249\u001b[0m job \u001b[38;5;241m=\u001b[39m \u001b[43mcreate_map_job\u001b[49m\u001b[43m(\u001b[49m\n\u001b[1;32m    250\u001b[0m \u001b[43m    \u001b[49m\u001b[43mconfig\u001b[49m\u001b[38;5;241;43m=\u001b[39;49m\u001b[38;5;28;43mself\u001b[39;49m\u001b[38;5;241;43m.\u001b[39;49m\u001b[43mconfig\u001b[49m\u001b[43m,\u001b[49m\n\u001b[1;32m    251\u001b[0m \u001b[43m    \u001b[49m\u001b[43minternal_storage\u001b[49m\u001b[38;5;241;43m=\u001b[39;49m\u001b[38;5;28;43mself\u001b[39;49m\u001b[38;5;241;43m.\u001b[39;49m\u001b[43minternal_storage\u001b[49m\u001b[43m,\u001b[49m\n\u001b[1;32m    252\u001b[0m \u001b[43m    \u001b[49m\u001b[43mexecutor_id\u001b[49m\u001b[38;5;241;43m=\u001b[39;49m\u001b[38;5;28;43mself\u001b[39;49m\u001b[38;5;241;43m.\u001b[39;49m\u001b[43mexecutor_id\u001b[49m\u001b[43m,\u001b[49m\n\u001b[1;32m    253\u001b[0m \u001b[43m    \u001b[49m\u001b[43mjob_id\u001b[49m\u001b[38;5;241;43m=\u001b[39;49m\u001b[43mjob_id\u001b[49m\u001b[43m,\u001b[49m\n\u001b[1;32m    254\u001b[0m \u001b[43m    \u001b[49m\u001b[43mmap_function\u001b[49m\u001b[38;5;241;43m=\u001b[39;49m\u001b[43mmap_function\u001b[49m\u001b[43m,\u001b[49m\n\u001b[1;32m    255\u001b[0m \u001b[43m    \u001b[49m\u001b[43miterdata\u001b[49m\u001b[38;5;241;43m=\u001b[39;49m\u001b[43mmap_iterdata\u001b[49m\u001b[43m,\u001b[49m\n\u001b[1;32m    256\u001b[0m \u001b[43m    \u001b[49m\u001b[43mchunksize\u001b[49m\u001b[38;5;241;43m=\u001b[39;49m\u001b[43mchunksize\u001b[49m\u001b[43m,\u001b[49m\n\u001b[1;32m    257\u001b[0m \u001b[43m    \u001b[49m\u001b[43mruntime_meta\u001b[49m\u001b[38;5;241;43m=\u001b[39;49m\u001b[43mruntime_meta\u001b[49m\u001b[43m,\u001b[49m\n\u001b[1;32m    258\u001b[0m \u001b[43m    \u001b[49m\u001b[43mruntime_memory\u001b[49m\u001b[38;5;241;43m=\u001b[39;49m\u001b[43mruntime_memory\u001b[49m\u001b[43m,\u001b[49m\n\u001b[1;32m    259\u001b[0m \u001b[43m    \u001b[49m\u001b[43mextra_env\u001b[49m\u001b[38;5;241;43m=\u001b[39;49m\u001b[43mextra_env\u001b[49m\u001b[43m,\u001b[49m\n\u001b[1;32m    260\u001b[0m \u001b[43m    \u001b[49m\u001b[43minclude_modules\u001b[49m\u001b[38;5;241;43m=\u001b[39;49m\u001b[43minclude_modules\u001b[49m\u001b[43m,\u001b[49m\n\u001b[1;32m    261\u001b[0m \u001b[43m    \u001b[49m\u001b[43mexclude_modules\u001b[49m\u001b[38;5;241;43m=\u001b[39;49m\u001b[43mexclude_modules\u001b[49m\u001b[43m,\u001b[49m\n\u001b[1;32m    262\u001b[0m \u001b[43m    \u001b[49m\u001b[43mexecution_timeout\u001b[49m\u001b[38;5;241;43m=\u001b[39;49m\u001b[43mtimeout\u001b[49m\u001b[43m,\u001b[49m\n\u001b[1;32m    263\u001b[0m \u001b[43m    \u001b[49m\u001b[43mextra_args\u001b[49m\u001b[38;5;241;43m=\u001b[39;49m\u001b[43mextra_args\u001b[49m\u001b[43m,\u001b[49m\n\u001b[1;32m    264\u001b[0m \u001b[43m    \u001b[49m\u001b[43mobj_chunk_size\u001b[49m\u001b[38;5;241;43m=\u001b[39;49m\u001b[43mobj_chunk_size\u001b[49m\u001b[43m,\u001b[49m\n\u001b[1;32m    265\u001b[0m \u001b[43m    \u001b[49m\u001b[43mobj_chunk_number\u001b[49m\u001b[38;5;241;43m=\u001b[39;49m\u001b[43mobj_chunk_number\u001b[49m\u001b[43m,\u001b[49m\n\u001b[1;32m    266\u001b[0m \u001b[43m    \u001b[49m\u001b[43mobj_newline\u001b[49m\u001b[38;5;241;43m=\u001b[39;49m\u001b[43mobj_newline\u001b[49m\n\u001b[1;32m    267\u001b[0m \u001b[43m\u001b[49m\u001b[43m)\u001b[49m\n\u001b[1;32m    269\u001b[0m futures \u001b[38;5;241m=\u001b[39m \u001b[38;5;28mself\u001b[39m\u001b[38;5;241m.\u001b[39minvoker\u001b[38;5;241m.\u001b[39mrun_job(job)\n\u001b[1;32m    270\u001b[0m \u001b[38;5;28mself\u001b[39m\u001b[38;5;241m.\u001b[39mfutures\u001b[38;5;241m.\u001b[39mextend(futures)\n",
      "File \u001b[0;32m~/.pyenv/versions/3.8.5/lib/python3.8/site-packages/lithops/job/job.py:80\u001b[0m, in \u001b[0;36mcreate_map_job\u001b[0;34m(config, internal_storage, executor_id, job_id, map_function, iterdata, runtime_meta, runtime_memory, extra_env, include_modules, exclude_modules, execution_timeout, chunksize, extra_args, obj_chunk_size, obj_newline, obj_chunk_number)\u001b[0m\n\u001b[1;32m     77\u001b[0m     host_job_meta[\u001b[38;5;124m'\u001b[39m\u001b[38;5;124mhost_job_create_partitions_time\u001b[39m\u001b[38;5;124m'\u001b[39m] \u001b[38;5;241m=\u001b[39m \u001b[38;5;28mround\u001b[39m(time\u001b[38;5;241m.\u001b[39mtime() \u001b[38;5;241m-\u001b[39m create_partitions_start, \u001b[38;5;241m6\u001b[39m)\n\u001b[1;32m     78\u001b[0m \u001b[38;5;66;03m# ########\u001b[39;00m\n\u001b[0;32m---> 80\u001b[0m job \u001b[38;5;241m=\u001b[39m \u001b[43m_create_job\u001b[49m\u001b[43m(\u001b[49m\n\u001b[1;32m     81\u001b[0m \u001b[43m    \u001b[49m\u001b[43mconfig\u001b[49m\u001b[38;5;241;43m=\u001b[39;49m\u001b[43mconfig\u001b[49m\u001b[43m,\u001b[49m\n\u001b[1;32m     82\u001b[0m \u001b[43m    \u001b[49m\u001b[43minternal_storage\u001b[49m\u001b[38;5;241;43m=\u001b[39;49m\u001b[43minternal_storage\u001b[49m\u001b[43m,\u001b[49m\n\u001b[1;32m     83\u001b[0m \u001b[43m    \u001b[49m\u001b[43mexecutor_id\u001b[49m\u001b[38;5;241;43m=\u001b[39;49m\u001b[43mexecutor_id\u001b[49m\u001b[43m,\u001b[49m\n\u001b[1;32m     84\u001b[0m \u001b[43m    \u001b[49m\u001b[43mjob_id\u001b[49m\u001b[38;5;241;43m=\u001b[39;49m\u001b[43mjob_id\u001b[49m\u001b[43m,\u001b[49m\n\u001b[1;32m     85\u001b[0m \u001b[43m    \u001b[49m\u001b[43mfunc\u001b[49m\u001b[38;5;241;43m=\u001b[39;49m\u001b[43mmap_function\u001b[49m\u001b[43m,\u001b[49m\n\u001b[1;32m     86\u001b[0m \u001b[43m    \u001b[49m\u001b[43miterdata\u001b[49m\u001b[38;5;241;43m=\u001b[39;49m\u001b[43mmap_iterdata\u001b[49m\u001b[43m,\u001b[49m\n\u001b[1;32m     87\u001b[0m \u001b[43m    \u001b[49m\u001b[43mchunksize\u001b[49m\u001b[38;5;241;43m=\u001b[39;49m\u001b[43mchunksize\u001b[49m\u001b[43m,\u001b[49m\n\u001b[1;32m     88\u001b[0m \u001b[43m    \u001b[49m\u001b[43mruntime_meta\u001b[49m\u001b[38;5;241;43m=\u001b[39;49m\u001b[43mruntime_meta\u001b[49m\u001b[43m,\u001b[49m\n\u001b[1;32m     89\u001b[0m \u001b[43m    \u001b[49m\u001b[43mruntime_memory\u001b[49m\u001b[38;5;241;43m=\u001b[39;49m\u001b[43mruntime_memory\u001b[49m\u001b[43m,\u001b[49m\n\u001b[1;32m     90\u001b[0m \u001b[43m    \u001b[49m\u001b[43mextra_env\u001b[49m\u001b[38;5;241;43m=\u001b[39;49m\u001b[43mextra_env\u001b[49m\u001b[43m,\u001b[49m\n\u001b[1;32m     91\u001b[0m \u001b[43m    \u001b[49m\u001b[43minclude_modules\u001b[49m\u001b[38;5;241;43m=\u001b[39;49m\u001b[43minclude_modules\u001b[49m\u001b[43m,\u001b[49m\n\u001b[1;32m     92\u001b[0m \u001b[43m    \u001b[49m\u001b[43mexclude_modules\u001b[49m\u001b[38;5;241;43m=\u001b[39;49m\u001b[43mexclude_modules\u001b[49m\u001b[43m,\u001b[49m\n\u001b[1;32m     93\u001b[0m \u001b[43m    \u001b[49m\u001b[43mexecution_timeout\u001b[49m\u001b[38;5;241;43m=\u001b[39;49m\u001b[43mexecution_timeout\u001b[49m\u001b[43m,\u001b[49m\n\u001b[1;32m     94\u001b[0m \u001b[43m    \u001b[49m\u001b[43mhost_job_meta\u001b[49m\u001b[38;5;241;43m=\u001b[39;49m\u001b[43mhost_job_meta\u001b[49m\n\u001b[1;32m     95\u001b[0m \u001b[43m\u001b[49m\u001b[43m)\u001b[49m\n\u001b[1;32m     97\u001b[0m \u001b[38;5;28;01mif\u001b[39;00m ppo:\n\u001b[1;32m     98\u001b[0m     job\u001b[38;5;241m.\u001b[39mparts_per_object \u001b[38;5;241m=\u001b[39m ppo\n",
      "File \u001b[0;32m~/.pyenv/versions/3.8.5/lib/python3.8/site-packages/lithops/job/job.py:237\u001b[0m, in \u001b[0;36m_create_job\u001b[0;34m(config, internal_storage, executor_id, job_id, func, iterdata, runtime_meta, runtime_memory, extra_env, include_modules, exclude_modules, execution_timeout, host_job_meta, chunksize)\u001b[0m\n\u001b[1;32m    235\u001b[0m job_serialize_start \u001b[38;5;241m=\u001b[39m time\u001b[38;5;241m.\u001b[39mtime()\n\u001b[1;32m    236\u001b[0m serializer \u001b[38;5;241m=\u001b[39m SerializeIndependent(runtime_meta[\u001b[38;5;124m'\u001b[39m\u001b[38;5;124mpreinstalls\u001b[39m\u001b[38;5;124m'\u001b[39m])\n\u001b[0;32m--> 237\u001b[0m func_and_data_ser, mod_paths \u001b[38;5;241m=\u001b[39m \u001b[43mserializer\u001b[49m\u001b[43m(\u001b[49m\u001b[43m[\u001b[49m\u001b[43mfunc\u001b[49m\u001b[43m]\u001b[49m\u001b[43m \u001b[49m\u001b[38;5;241;43m+\u001b[39;49m\u001b[43m \u001b[49m\u001b[43miterdata\u001b[49m\u001b[43m,\u001b[49m\u001b[43m \u001b[49m\u001b[43minc_modules\u001b[49m\u001b[43m,\u001b[49m\u001b[43m \u001b[49m\u001b[43mexc_modules\u001b[49m\u001b[43m)\u001b[49m\n\u001b[1;32m    238\u001b[0m data_strs \u001b[38;5;241m=\u001b[39m func_and_data_ser[\u001b[38;5;241m1\u001b[39m:]\n\u001b[1;32m    239\u001b[0m data_size_bytes \u001b[38;5;241m=\u001b[39m \u001b[38;5;28msum\u001b[39m(\u001b[38;5;28mlen\u001b[39m(x) \u001b[38;5;28;01mfor\u001b[39;00m x \u001b[38;5;129;01min\u001b[39;00m data_strs)\n",
      "File \u001b[0;32m~/.pyenv/versions/3.8.5/lib/python3.8/site-packages/lithops/job/serialize.py:86\u001b[0m, in \u001b[0;36mSerializeIndependent.__call__\u001b[0;34m(self, list_of_objs, include_modules, exclude_modules)\u001b[0m\n\u001b[1;32m     81\u001b[0m         \u001b[38;5;28mself\u001b[39m\u001b[38;5;241m.\u001b[39m_modulemgr\u001b[38;5;241m.\u001b[39madd(module_name)\n\u001b[1;32m     83\u001b[0m     direct_modules\u001b[38;5;241m.\u001b[39madd(origin \u001b[38;5;28;01mif\u001b[39;00m origin \u001b[38;5;241m!=\u001b[39m \u001b[38;5;124m'\u001b[39m\u001b[38;5;124mbuilt-in\u001b[39m\u001b[38;5;124m'\u001b[39m \u001b[38;5;28;01melse\u001b[39;00m module_name)\n\u001b[1;32m     85\u001b[0m logger\u001b[38;5;241m.\u001b[39mdebug(\u001b[38;5;124m\"\u001b[39m\u001b[38;5;124mReferenced modules: \u001b[39m\u001b[38;5;132;01m{}\u001b[39;00m\u001b[38;5;124m\"\u001b[39m\u001b[38;5;241m.\u001b[39mformat(\u001b[38;5;28;01mNone\u001b[39;00m \u001b[38;5;28;01mif\u001b[39;00m \u001b[38;5;129;01mnot\u001b[39;00m\n\u001b[0;32m---> 86\u001b[0m              direct_modules \u001b[38;5;28;01melse\u001b[39;00m \u001b[38;5;124;43m\"\u001b[39;49m\u001b[38;5;124;43m, \u001b[39;49m\u001b[38;5;124;43m\"\u001b[39;49m\u001b[38;5;241;43m.\u001b[39;49m\u001b[43mjoin\u001b[49m\u001b[43m(\u001b[49m\u001b[43mdirect_modules\u001b[49m\u001b[43m)\u001b[49m))\n\u001b[1;32m     88\u001b[0m \u001b[38;5;28;01mif\u001b[39;00m include_modules \u001b[38;5;129;01mis\u001b[39;00m \u001b[38;5;129;01mnot\u001b[39;00m \u001b[38;5;28;01mNone\u001b[39;00m:\n\u001b[1;32m     89\u001b[0m     tent_mod_paths \u001b[38;5;241m=\u001b[39m \u001b[38;5;28mself\u001b[39m\u001b[38;5;241m.\u001b[39m_modulemgr\u001b[38;5;241m.\u001b[39mget_and_clear_paths()\n",
      "\u001b[0;31mTypeError\u001b[0m: sequence item 7: expected str instance, NoneType found"
     ]
    }
   ],
   "source": [
    "# Discover expected false annotations by FDR (False-Discovery-Rate)\n",
    "pipeline.run_fdr()"
   ]
  },
  {
   "cell_type": "markdown",
   "metadata": {
    "pycharm": {
     "name": "#%% md\n"
    }
   },
   "source": [
    "### Lithops Summary"
   ]
  },
  {
   "cell_type": "code",
   "execution_count": null,
   "metadata": {
    "ExecuteTime": {
     "end_time": "2021-01-28T18:42:44.898172Z",
     "start_time": "2021-01-28T18:42:44.873639Z"
    },
    "pycharm": {
     "name": "#%%\n"
    }
   },
   "outputs": [],
   "source": [
    "# Display statistics file\n",
    "from annotation_pipeline.utils import PipelineStats\n",
    "PipelineStats.get()"
   ]
  },
  {
   "cell_type": "markdown",
   "metadata": {
    "pycharm": {
     "name": "#%% md\n"
    }
   },
   "source": [
    "# <a name=\"display\"></a> 3. Display Annotations"
   ]
  },
  {
   "cell_type": "code",
   "execution_count": null,
   "metadata": {
    "ExecuteTime": {
     "end_time": "2021-01-28T18:42:44.931764Z",
     "start_time": "2021-01-28T18:42:44.899674Z"
    }
   },
   "outputs": [],
   "source": [
    "# Display most annotated molecules statistics\n",
    "results_df = pipeline.get_results()\n",
    "top_mols = (results_df\n",
    "               .sort_values('msm', ascending=False)\n",
    "               .drop('database_path', axis=1)\n",
    "               .drop_duplicates(['mol','modifier','adduct']))\n",
    "top_mols.head()"
   ]
  },
  {
   "cell_type": "code",
   "execution_count": null,
   "metadata": {
    "ExecuteTime": {
     "end_time": "2021-01-28T18:43:39.635492Z",
     "start_time": "2021-01-28T18:42:44.932743Z"
    }
   },
   "outputs": [],
   "source": [
    "# Download annotated molecules images\n",
    "formula_images = pipeline.get_images(as_png=False)"
   ]
  },
  {
   "cell_type": "code",
   "execution_count": null,
   "metadata": {
    "ExecuteTime": {
     "end_time": "2021-01-28T18:43:40.202597Z",
     "start_time": "2021-01-28T18:43:39.643434Z"
    },
    "pycharm": {
     "name": "#%%\n"
    }
   },
   "outputs": [],
   "source": [
    "# Display most annotated molecules images\n",
    "import matplotlib.pyplot as plt\n",
    "for i, (formula_i, row) in enumerate(top_mols.head().iterrows()):\n",
    "    plt.figure(i)\n",
    "    plt.title(f'{row.mol}{row.modifier}{row.adduct} - MSM {row.msm:.3f} FDR {row.fdr*100:.0f}%')\n",
    "    plt.imshow(formula_images[formula_i][0].toarray())"
   ]
  },
  {
   "cell_type": "markdown",
   "metadata": {
    "pycharm": {
     "metadata": false
    }
   },
   "source": [
    "# <a name=\"clean\"></a> 4. Clean Temp Data"
   ]
  },
  {
   "cell_type": "code",
   "execution_count": null,
   "metadata": {
    "ExecuteTime": {
     "end_time": "2021-01-28T18:43:40.213951Z",
     "start_time": "2021-01-28T18:43:40.203601Z"
    }
   },
   "outputs": [],
   "source": [
    "pipeline.clean()"
   ]
  },
  {
   "cell_type": "code",
   "execution_count": null,
   "metadata": {},
   "outputs": [],
   "source": []
  }
 ],
 "metadata": {
  "kernelspec": {
   "display_name": "Python 3 (ipykernel)",
   "language": "python",
   "name": "python3"
  },
  "language_info": {
   "codemirror_mode": {
    "name": "ipython",
    "version": 3
   },
   "file_extension": ".py",
   "mimetype": "text/x-python",
   "name": "python",
   "nbconvert_exporter": "python",
   "pygments_lexer": "ipython3",
   "version": "3.8.5"
  },
  "stem_cell": {
   "cell_type": "raw",
   "metadata": {
    "pycharm": {
     "metadata": false
    }
   },
   "source": ""
  },
  "toc": {
   "base_numbering": 1,
   "nav_menu": {},
   "number_sections": true,
   "sideBar": true,
   "skip_h1_title": false,
   "title_cell": "Table of Contents",
   "title_sidebar": "Contents",
   "toc_cell": false,
   "toc_position": {},
   "toc_section_display": true,
   "toc_window_display": false
  }
 },
 "nbformat": 4,
 "nbformat_minor": 4
}
