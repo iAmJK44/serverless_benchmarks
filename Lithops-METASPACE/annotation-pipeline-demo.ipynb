{
 "cells": [
  {
   "cell_type": "markdown",
   "metadata": {},
   "source": [
    "# Metaspace annotation pipeline on Lithops\n",
    "\n",
    "Experimental code to integrate the [METASPACE annotation engine](https://github.com/metaspace2020/metaspace/tree/master/metaspace/engine)\n",
    "with [Lithops](https://github.com/lithops-cloud/lithops)."
   ]
  },
  {
   "cell_type": "markdown",
   "metadata": {},
   "source": [
    "## Table of Contents\n",
    "1. [Setup](#setup)\n",
    "2. [Run Annotation Pipeline](#annotation)\n",
    "3. [Display Annotations](#display)\n",
    "4. [Clean Temp Data](#clean)"
   ]
  },
  {
   "cell_type": "markdown",
   "metadata": {
    "pycharm": {
     "metadata": false
    }
   },
   "source": [
    "# <a name=\"setup\"></a> Setup\n",
    "\n",
    "Follow the instructions in [README.md](./README.md) to configure Lithops to use a cloud platform. If not configured, Lithops will execute code on the local computer using `multiprocessing`."
   ]
  },
  {
   "cell_type": "code",
   "execution_count": 1,
   "metadata": {
    "ExecuteTime": {
     "end_time": "2021-01-28T18:38:26.889801Z",
     "start_time": "2021-01-28T18:38:26.729894Z"
    },
    "pycharm": {
     "metadata": false,
     "name": "#%%\n"
    }
   },
   "outputs": [],
   "source": [
    "%load_ext autoreload\n",
    "%autoreload 2\n",
    "%config Completer.use_jedi = False\n",
    "%matplotlib inline"
   ]
  },
  {
   "cell_type": "code",
   "execution_count": 2,
   "metadata": {
    "ExecuteTime": {
     "end_time": "2021-01-28T18:38:26.898702Z",
     "start_time": "2021-01-28T18:38:26.890844Z"
    },
    "pycharm": {
     "metadata": false,
     "name": "#%%\n"
    }
   },
   "outputs": [
    {
     "name": "stdout",
     "output_type": "stream",
     "text": [
      "Before: 4096 1048576\n",
      "After: 10000 1048576\n"
     ]
    }
   ],
   "source": [
    "# We need this to overcome Python notebooks limitations of too many open files\n",
    "import resource\n",
    "soft, hard = resource.getrlimit(resource.RLIMIT_NOFILE)\n",
    "print('Before:', soft, hard)\n",
    "\n",
    "# Raising the soft limit. Hard limits can be raised only by sudo users\n",
    "resource.setrlimit(resource.RLIMIT_NOFILE, (10000, hard))\n",
    "soft, hard = resource.getrlimit(resource.RLIMIT_NOFILE)\n",
    "print('After:', soft, hard)"
   ]
  },
  {
   "cell_type": "code",
   "execution_count": 3,
   "metadata": {
    "ExecuteTime": {
     "end_time": "2021-01-28T18:38:26.925084Z",
     "start_time": "2021-01-28T18:38:26.899701Z"
    },
    "pycharm": {
     "metadata": false,
     "name": "#%%\n"
    }
   },
   "outputs": [],
   "source": [
    "import logging\n",
    "logging.basicConfig(level=logging.INFO)"
   ]
  },
  {
   "cell_type": "markdown",
   "metadata": {},
   "source": [
    "## Project Setup\n",
    "\n",
    "Check that the `Lithops-METASPACE` project is installed."
   ]
  },
  {
   "cell_type": "code",
   "execution_count": 4,
   "metadata": {
    "ExecuteTime": {
     "end_time": "2021-01-28T18:38:27.214443Z",
     "start_time": "2021-01-28T18:38:26.926140Z"
    }
   },
   "outputs": [
    {
     "name": "stdout",
     "output_type": "stream",
     "text": [
      "Lithops version: 3.0.0\n"
     ]
    }
   ],
   "source": [
    "try:\n",
    "    from annotation_pipeline import Pipeline\n",
    "    import lithops\n",
    "    print('Lithops version: ' + lithops.__version__)\n",
    "except ImportError:\n",
    "    print('Failed to import Lithops-METASPACE. Please run \"pip install -e .\" in this directory.')"
   ]
  },
  {
   "cell_type": "code",
   "execution_count": 5,
   "metadata": {
    "ExecuteTime": {
     "end_time": "2021-01-28T18:38:27.226421Z",
     "start_time": "2021-01-28T18:38:27.215364Z"
    },
    "pycharm": {
     "metadata": false,
     "name": "#%%\n"
    }
   },
   "outputs": [
    {
     "data": {
      "text/plain": [
       "'3.0.0'"
      ]
     },
     "execution_count": 5,
     "metadata": {},
     "output_type": "execute_result"
    }
   ],
   "source": [
    "# Display Lithops version\n",
    "import lithops\n",
    "lithops.__version__"
   ]
  },
  {
   "cell_type": "markdown",
   "metadata": {
    "pycharm": {
     "metadata": false
    }
   },
   "source": [
    "## Input Files Setup\n",
    "\n",
    "Choose between the input config files to select how much processing will be done. See the `README.md` for more information on each dataset."
   ]
  },
  {
   "cell_type": "code",
   "execution_count": 6,
   "metadata": {
    "ExecuteTime": {
     "end_time": "2021-01-28T18:38:27.242611Z",
     "start_time": "2021-01-28T18:38:27.227315Z"
    },
    "pycharm": {
     "metadata": false,
     "name": "#%%\n"
    }
   },
   "outputs": [],
   "source": [
    "import json\n",
    "\n",
    "# Input dataset and database (increase/decrease config number to increase/decrease job size)\n",
    "input_ds = json.load(open('metabolomics/ds_config1.json'))\n",
    "input_db = json.load(open('metabolomics/db_config1.json'))"
   ]
  },
  {
   "cell_type": "code",
   "execution_count": 7,
   "metadata": {
    "ExecuteTime": {
     "end_time": "2021-01-28T18:38:27.259312Z",
     "start_time": "2021-01-28T18:38:27.243638Z"
    },
    "pycharm": {
     "name": "#%%\n"
    }
   },
   "outputs": [
    {
     "data": {
      "text/plain": [
       "{'name': 'Brain02_Bregma1-42_02',\n",
       " 'imzml_path': 'cos://embl-datasets/small/ds.imzML',\n",
       " 'ibd_path': 'cos://embl-datasets/small/ds.ibd',\n",
       " 'num_decoys': 20,\n",
       " 'polarity': '+',\n",
       " 'isocalc_sigma': 0.000693,\n",
       " 'metaspace_id': '2016-09-22_11h16m11s'}"
      ]
     },
     "execution_count": 7,
     "metadata": {},
     "output_type": "execute_result"
    }
   ],
   "source": [
    "input_ds"
   ]
  },
  {
   "cell_type": "code",
   "execution_count": 8,
   "metadata": {
    "ExecuteTime": {
     "end_time": "2021-01-28T18:38:27.280105Z",
     "start_time": "2021-01-28T18:38:27.260753Z"
    },
    "pycharm": {
     "name": "#%%\n"
    }
   },
   "outputs": [
    {
     "data": {
      "text/plain": [
       "{'name': 'db_config1',\n",
       " 'databases': ['metabolomics/db/mol_db1.csv'],\n",
       " 'adducts': ['', '+H', '+Na', '+K'],\n",
       " 'modifiers': ['']}"
      ]
     },
     "execution_count": 8,
     "metadata": {},
     "output_type": "execute_result"
    }
   ],
   "source": [
    "input_db"
   ]
  },
  {
   "cell_type": "markdown",
   "metadata": {
    "pycharm": {
     "metadata": false,
     "name": "#%%\n"
    }
   },
   "source": [
    "# <a name=\"annotation\"></a> Run Annotation Pipeline"
   ]
  },
  {
   "cell_type": "code",
   "execution_count": 9,
   "metadata": {
    "ExecuteTime": {
     "end_time": "2021-01-28T18:38:27.575106Z",
     "start_time": "2021-01-28T18:38:27.281590Z"
    }
   },
   "outputs": [
    {
     "name": "stderr",
     "output_type": "stream",
     "text": [
      "INFO:lithops.config:Lithops v3.0.0 - Python3.8\n",
      "INFO:annotation-pipeline:Using the pure Serverless implementation\n",
      "INFO:lithops.config:Lithops v3.0.0 - Python3.8\n",
      "INFO:lithops.storage.backends.aws_s3.aws_s3:S3 client created - Region: us-east-1\n",
      "INFO:lithops.serverless.backends.aws_lambda.aws_lambda:AWS Lambda client created - Region: us-east-1\n",
      "INFO:lithops.storage.backends.aws_s3.aws_s3:S3 client created - Region: us-east-1\n",
      "INFO:annotation-pipeline:Using cached logs/2023-10-09_10:40:53.csv for statistics\n"
     ]
    }
   ],
   "source": [
    "from annotation_pipeline.pipeline import Pipeline\n",
    "pipeline = Pipeline(\n",
    "    # Input dataset & metabolite database\n",
    "    input_ds, input_db, \n",
    "    # Whether to use the pipeline False to accelerate repeated runs with the same database or dataset\n",
    "    use_ds_cache=True, use_db_cache=True, \n",
    "    # Set to 'auto' to used the hybrid Serverless+VM implementation when available,\n",
    "    # True to force Hybrid mode, or False to force pure Serverless mode.\n",
    "    hybrid_impl='auto'\n",
    ")"
   ]
  },
  {
   "cell_type": "markdown",
   "metadata": {},
   "source": [
    "### Database preprocessing"
   ]
  },
  {
   "cell_type": "code",
   "execution_count": 10,
   "metadata": {
    "ExecuteTime": {
     "end_time": "2021-01-28T18:38:27.695252Z",
     "start_time": "2021-01-28T18:38:27.576317Z"
    }
   },
   "outputs": [
    {
     "name": "stderr",
     "output_type": "stream",
     "text": [
      "INFO:annotation-pipeline:Loaded 1 molecular databases from cache\n"
     ]
    }
   ],
   "source": [
    "# Upload required molecular databases from local machine\n",
    "pipeline.upload_molecular_databases()"
   ]
  },
  {
   "cell_type": "code",
   "execution_count": 11,
   "metadata": {
    "ExecuteTime": {
     "end_time": "2021-01-28T18:38:27.763560Z",
     "start_time": "2021-01-28T18:38:27.698566Z"
    },
    "pycharm": {
     "name": "#%%\n"
    }
   },
   "outputs": [
    {
     "name": "stderr",
     "output_type": "stream",
     "text": [
      "INFO:annotation-pipeline:Loaded 256 formula segments and 1 formula-to-id chunks from cache\n"
     ]
    }
   ],
   "source": [
    "# Parse the database\n",
    "pipeline.build_database()"
   ]
  },
  {
   "cell_type": "code",
   "execution_count": 12,
   "metadata": {
    "ExecuteTime": {
     "end_time": "2021-01-28T18:38:27.840145Z",
     "start_time": "2021-01-28T18:38:27.764980Z"
    },
    "pycharm": {
     "name": "#%%\n"
    }
   },
   "outputs": [
    {
     "name": "stderr",
     "output_type": "stream",
     "text": [
      "INFO:annotation-pipeline:Loaded 256 centroid chunks from cache\n"
     ]
    }
   ],
   "source": [
    "# Calculate theoretical centroids for each formula\n",
    "pipeline.calculate_centroids()"
   ]
  },
  {
   "cell_type": "markdown",
   "metadata": {},
   "source": [
    "### Dataset preprocessing"
   ]
  },
  {
   "cell_type": "code",
   "execution_count": 13,
   "metadata": {
    "ExecuteTime": {
     "end_time": "2021-01-28T18:38:27.968140Z",
     "start_time": "2021-01-28T18:38:27.841531Z"
    },
    "pycharm": {
     "metadata": false,
     "name": "#%%\n"
    }
   },
   "outputs": [
    {
     "name": "stderr",
     "output_type": "stream",
     "text": [
      "INFO:annotation-pipeline:Translating IBM COS path to public HTTPS path for example file \"cos://embl-datasets/small/ds.imzML\"\n",
      "INFO:annotation-pipeline:Translating IBM COS path to public HTTPS path for example file \"cos://embl-datasets/small/ds.ibd\"\n"
     ]
    }
   ],
   "source": [
    "# Upload the dataset if needed\n",
    "pipeline.upload_dataset()"
   ]
  },
  {
   "cell_type": "code",
   "execution_count": 14,
   "metadata": {
    "ExecuteTime": {
     "end_time": "2021-01-28T18:38:28.082396Z",
     "start_time": "2021-01-28T18:38:27.969303Z"
    },
    "pycharm": {
     "metadata": false,
     "name": "#%%\n"
    },
    "scrolled": true
   },
   "outputs": [
    {
     "name": "stderr",
     "output_type": "stream",
     "text": [
      "INFO:annotation-pipeline:Loaded imzml from cache, 12088 spectra found\n"
     ]
    }
   ],
   "source": [
    "# Load the dataset's parser\n",
    "pipeline.load_ds()"
   ]
  },
  {
   "cell_type": "code",
   "execution_count": 16,
   "metadata": {
    "ExecuteTime": {
     "end_time": "2021-01-28T18:38:28.152249Z",
     "start_time": "2021-01-28T18:38:28.084373Z"
    }
   },
   "outputs": [
    {
     "name": "stderr",
     "output_type": "stream",
     "text": [
      "INFO:lithops.invokers:ExecutorID bc8a09-0 | JobID M001 - Selected Runtime: metaspace:01 - 3072MB\n",
      "INFO:lithops.job.serialize:added modules {'concurrent.futures.thread', 'annotation_pipeline.utils', 'annotation_pipeline.segment', 'sys', 'pickle', 'lithops.storage.utils', 'numpy', 'logging', '_io'}\n",
      "INFO:lithops.job.serialize:added modules set()\n",
      "INFO:lithops.job.serialize:module_name: concurrent.futures.thread, origin: /home/pau/.pyenv/versions/3.8.5/lib/python3.8/concurrent/futures/thread.py\n",
      "INFO:lithops.job.serialize:module_name: annotation_pipeline.utils, origin: /home/pau/CLOUDLAB/serverless_pipelines/Lithops-METASPACE/annotation_pipeline/utils.py\n",
      "INFO:lithops.job.serialize:module_name: annotation_pipeline.segment, origin: /home/pau/CLOUDLAB/serverless_pipelines/Lithops-METASPACE/annotation_pipeline/segment.py\n",
      "INFO:lithops.job.serialize:module_name: sys, origin: None\n",
      "INFO:lithops.job.serialize:module_name: pickle, origin: /home/pau/.pyenv/versions/3.8.5/lib/python3.8/pickle.py\n",
      "INFO:lithops.job.serialize:module_name: lithops.storage.utils, origin: /home/pau/.pyenv/versions/3.8.5/lib/python3.8/site-packages/lithops/storage/utils.py\n",
      "INFO:lithops.job.serialize:module_name: numpy, origin: /home/pau/.pyenv/versions/3.8.5/lib/python3.8/site-packages/numpy/__init__.py\n",
      "INFO:lithops.job.serialize:module_name: logging, origin: /home/pau/.pyenv/versions/3.8.5/lib/python3.8/logging/__init__.py\n",
      "INFO:lithops.job.serialize:module_name: _io, origin: built-in\n"
     ]
    },
    {
     "ename": "TypeError",
     "evalue": "sequence item 0: expected str instance, NoneType found",
     "output_type": "error",
     "traceback": [
      "\u001b[0;31m---------------------------------------------------------------------------\u001b[0m",
      "\u001b[0;31mTypeError\u001b[0m                                 Traceback (most recent call last)",
      "Cell \u001b[0;32mIn[16], line 2\u001b[0m\n\u001b[1;32m      1\u001b[0m \u001b[38;5;66;03m# Parse dataset chunks into IBM COS\u001b[39;00m\n\u001b[0;32m----> 2\u001b[0m \u001b[43mpipeline\u001b[49m\u001b[38;5;241;43m.\u001b[39;49m\u001b[43msplit_ds\u001b[49m\u001b[43m(\u001b[49m\u001b[43m)\u001b[49m\n",
      "File \u001b[0;32m~/CLOUDLAB/serverless_pipelines/Lithops-METASPACE/annotation_pipeline/pipeline.py:196\u001b[0m, in \u001b[0;36mPipeline.split_ds\u001b[0;34m(self, use_cache)\u001b[0m\n\u001b[1;32m    194\u001b[0m     logger\u001b[38;5;241m.\u001b[39minfo(\u001b[38;5;124mf\u001b[39m\u001b[38;5;124m'\u001b[39m\u001b[38;5;124mLoaded \u001b[39m\u001b[38;5;132;01m{\u001b[39;00m\u001b[38;5;28mlen\u001b[39m(\u001b[38;5;28mself\u001b[39m\u001b[38;5;241m.\u001b[39mds_chunks_cobjects)\u001b[38;5;132;01m}\u001b[39;00m\u001b[38;5;124m dataset chunks from cache\u001b[39m\u001b[38;5;124m'\u001b[39m)\n\u001b[1;32m    195\u001b[0m \u001b[38;5;28;01melse\u001b[39;00m:\n\u001b[0;32m--> 196\u001b[0m     \u001b[38;5;28mself\u001b[39m\u001b[38;5;241m.\u001b[39mds_chunks_cobjects \u001b[38;5;241m=\u001b[39m \u001b[43mchunk_spectra\u001b[49m\u001b[43m(\u001b[49m\u001b[38;5;28;43mself\u001b[39;49m\u001b[38;5;241;43m.\u001b[39;49m\u001b[43mlithops_executor\u001b[49m\u001b[43m,\u001b[49m\u001b[43m \u001b[49m\u001b[38;5;28;43mself\u001b[39;49m\u001b[38;5;241;43m.\u001b[39;49m\u001b[43mibd_cobject\u001b[49m\u001b[43m,\u001b[49m\n\u001b[1;32m    197\u001b[0m \u001b[43m                                            \u001b[49m\u001b[38;5;28;43mself\u001b[39;49m\u001b[38;5;241;43m.\u001b[39;49m\u001b[43mimzml_reader_cobject\u001b[49m\u001b[43m,\u001b[49m\u001b[43m \u001b[49m\u001b[38;5;28;43mself\u001b[39;49m\u001b[38;5;241;43m.\u001b[39;49m\u001b[43mimzml_reader\u001b[49m\u001b[43m)\u001b[49m\n\u001b[1;32m    198\u001b[0m     logger\u001b[38;5;241m.\u001b[39minfo(\u001b[38;5;124mf\u001b[39m\u001b[38;5;124m'\u001b[39m\u001b[38;5;124mUploaded \u001b[39m\u001b[38;5;132;01m{\u001b[39;00m\u001b[38;5;28mlen\u001b[39m(\u001b[38;5;28mself\u001b[39m\u001b[38;5;241m.\u001b[39mds_chunks_cobjects)\u001b[38;5;132;01m}\u001b[39;00m\u001b[38;5;124m dataset chunks\u001b[39m\u001b[38;5;124m'\u001b[39m)\n\u001b[1;32m    199\u001b[0m     \u001b[38;5;28mself\u001b[39m\u001b[38;5;241m.\u001b[39mcacher\u001b[38;5;241m.\u001b[39msave(\u001b[38;5;28mself\u001b[39m\u001b[38;5;241m.\u001b[39mds_chunks_cobjects, cache_key)\n",
      "File \u001b[0;32m~/CLOUDLAB/serverless_pipelines/Lithops-METASPACE/annotation_pipeline/segment.py:109\u001b[0m, in \u001b[0;36mchunk_spectra\u001b[0;34m(pw, ibd_cobject, imzml_reader_cobject, imzml_reader)\u001b[0m\n\u001b[1;32m    107\u001b[0m chunks \u001b[38;5;241m=\u001b[39m \u001b[38;5;28mlist\u001b[39m(plan_chunks())\n\u001b[1;32m    108\u001b[0m memory_capacity_mb \u001b[38;5;241m=\u001b[39m \u001b[38;5;241m3072\u001b[39m\n\u001b[0;32m--> 109\u001b[0m futures \u001b[38;5;241m=\u001b[39m \u001b[43mpw\u001b[49m\u001b[38;5;241;43m.\u001b[39;49m\u001b[43mmap\u001b[49m\u001b[43m(\u001b[49m\u001b[43mupload_chunk\u001b[49m\u001b[43m,\u001b[49m\u001b[43m \u001b[49m\u001b[43m[\u001b[49m\u001b[43m(\u001b[49m\u001b[43mi\u001b[49m\u001b[43m,\u001b[49m\u001b[43m)\u001b[49m\u001b[43m \u001b[49m\u001b[38;5;28;43;01mfor\u001b[39;49;00m\u001b[43m \u001b[49m\u001b[43mi\u001b[49m\u001b[43m \u001b[49m\u001b[38;5;129;43;01min\u001b[39;49;00m\u001b[43m \u001b[49m\u001b[38;5;28;43mrange\u001b[39;49m\u001b[43m(\u001b[49m\u001b[38;5;28;43mlen\u001b[39;49m\u001b[43m(\u001b[49m\u001b[43mchunks\u001b[49m\u001b[43m)\u001b[49m\u001b[43m)\u001b[49m\u001b[43m]\u001b[49m\u001b[43m,\u001b[49m\u001b[43m \u001b[49m\u001b[43mruntime_memory\u001b[49m\u001b[38;5;241;43m=\u001b[39;49m\u001b[43mmemory_capacity_mb\u001b[49m\u001b[43m)\u001b[49m\n\u001b[1;32m    110\u001b[0m ds_chunks_cobjects \u001b[38;5;241m=\u001b[39m pw\u001b[38;5;241m.\u001b[39mget_result(futures)\n\u001b[1;32m    111\u001b[0m PipelineStats\u001b[38;5;241m.\u001b[39mappend_func(futures, memory_mb\u001b[38;5;241m=\u001b[39mmemory_capacity_mb, cloud_objects_n\u001b[38;5;241m=\u001b[39m\u001b[38;5;28mlen\u001b[39m(chunks))\n",
      "File \u001b[0;32m~/.pyenv/versions/3.8.5/lib/python3.8/site-packages/lithops/executors.py:249\u001b[0m, in \u001b[0;36mFunctionExecutor.map\u001b[0;34m(self, map_function, map_iterdata, chunksize, extra_args, extra_env, runtime_memory, obj_chunk_size, obj_chunk_number, obj_newline, timeout, include_modules, exclude_modules)\u001b[0m\n\u001b[1;32m    245\u001b[0m \u001b[38;5;28mself\u001b[39m\u001b[38;5;241m.\u001b[39mlast_call \u001b[38;5;241m=\u001b[39m \u001b[38;5;124m'\u001b[39m\u001b[38;5;124mmap\u001b[39m\u001b[38;5;124m'\u001b[39m\n\u001b[1;32m    247\u001b[0m runtime_meta \u001b[38;5;241m=\u001b[39m \u001b[38;5;28mself\u001b[39m\u001b[38;5;241m.\u001b[39minvoker\u001b[38;5;241m.\u001b[39mselect_runtime(job_id, runtime_memory)\n\u001b[0;32m--> 249\u001b[0m job \u001b[38;5;241m=\u001b[39m \u001b[43mcreate_map_job\u001b[49m\u001b[43m(\u001b[49m\n\u001b[1;32m    250\u001b[0m \u001b[43m    \u001b[49m\u001b[43mconfig\u001b[49m\u001b[38;5;241;43m=\u001b[39;49m\u001b[38;5;28;43mself\u001b[39;49m\u001b[38;5;241;43m.\u001b[39;49m\u001b[43mconfig\u001b[49m\u001b[43m,\u001b[49m\n\u001b[1;32m    251\u001b[0m \u001b[43m    \u001b[49m\u001b[43minternal_storage\u001b[49m\u001b[38;5;241;43m=\u001b[39;49m\u001b[38;5;28;43mself\u001b[39;49m\u001b[38;5;241;43m.\u001b[39;49m\u001b[43minternal_storage\u001b[49m\u001b[43m,\u001b[49m\n\u001b[1;32m    252\u001b[0m \u001b[43m    \u001b[49m\u001b[43mexecutor_id\u001b[49m\u001b[38;5;241;43m=\u001b[39;49m\u001b[38;5;28;43mself\u001b[39;49m\u001b[38;5;241;43m.\u001b[39;49m\u001b[43mexecutor_id\u001b[49m\u001b[43m,\u001b[49m\n\u001b[1;32m    253\u001b[0m \u001b[43m    \u001b[49m\u001b[43mjob_id\u001b[49m\u001b[38;5;241;43m=\u001b[39;49m\u001b[43mjob_id\u001b[49m\u001b[43m,\u001b[49m\n\u001b[1;32m    254\u001b[0m \u001b[43m    \u001b[49m\u001b[43mmap_function\u001b[49m\u001b[38;5;241;43m=\u001b[39;49m\u001b[43mmap_function\u001b[49m\u001b[43m,\u001b[49m\n\u001b[1;32m    255\u001b[0m \u001b[43m    \u001b[49m\u001b[43miterdata\u001b[49m\u001b[38;5;241;43m=\u001b[39;49m\u001b[43mmap_iterdata\u001b[49m\u001b[43m,\u001b[49m\n\u001b[1;32m    256\u001b[0m \u001b[43m    \u001b[49m\u001b[43mchunksize\u001b[49m\u001b[38;5;241;43m=\u001b[39;49m\u001b[43mchunksize\u001b[49m\u001b[43m,\u001b[49m\n\u001b[1;32m    257\u001b[0m \u001b[43m    \u001b[49m\u001b[43mruntime_meta\u001b[49m\u001b[38;5;241;43m=\u001b[39;49m\u001b[43mruntime_meta\u001b[49m\u001b[43m,\u001b[49m\n\u001b[1;32m    258\u001b[0m \u001b[43m    \u001b[49m\u001b[43mruntime_memory\u001b[49m\u001b[38;5;241;43m=\u001b[39;49m\u001b[43mruntime_memory\u001b[49m\u001b[43m,\u001b[49m\n\u001b[1;32m    259\u001b[0m \u001b[43m    \u001b[49m\u001b[43mextra_env\u001b[49m\u001b[38;5;241;43m=\u001b[39;49m\u001b[43mextra_env\u001b[49m\u001b[43m,\u001b[49m\n\u001b[1;32m    260\u001b[0m \u001b[43m    \u001b[49m\u001b[43minclude_modules\u001b[49m\u001b[38;5;241;43m=\u001b[39;49m\u001b[43minclude_modules\u001b[49m\u001b[43m,\u001b[49m\n\u001b[1;32m    261\u001b[0m \u001b[43m    \u001b[49m\u001b[43mexclude_modules\u001b[49m\u001b[38;5;241;43m=\u001b[39;49m\u001b[43mexclude_modules\u001b[49m\u001b[43m,\u001b[49m\n\u001b[1;32m    262\u001b[0m \u001b[43m    \u001b[49m\u001b[43mexecution_timeout\u001b[49m\u001b[38;5;241;43m=\u001b[39;49m\u001b[43mtimeout\u001b[49m\u001b[43m,\u001b[49m\n\u001b[1;32m    263\u001b[0m \u001b[43m    \u001b[49m\u001b[43mextra_args\u001b[49m\u001b[38;5;241;43m=\u001b[39;49m\u001b[43mextra_args\u001b[49m\u001b[43m,\u001b[49m\n\u001b[1;32m    264\u001b[0m \u001b[43m    \u001b[49m\u001b[43mobj_chunk_size\u001b[49m\u001b[38;5;241;43m=\u001b[39;49m\u001b[43mobj_chunk_size\u001b[49m\u001b[43m,\u001b[49m\n\u001b[1;32m    265\u001b[0m \u001b[43m    \u001b[49m\u001b[43mobj_chunk_number\u001b[49m\u001b[38;5;241;43m=\u001b[39;49m\u001b[43mobj_chunk_number\u001b[49m\u001b[43m,\u001b[49m\n\u001b[1;32m    266\u001b[0m \u001b[43m    \u001b[49m\u001b[43mobj_newline\u001b[49m\u001b[38;5;241;43m=\u001b[39;49m\u001b[43mobj_newline\u001b[49m\n\u001b[1;32m    267\u001b[0m \u001b[43m\u001b[49m\u001b[43m)\u001b[49m\n\u001b[1;32m    269\u001b[0m futures \u001b[38;5;241m=\u001b[39m \u001b[38;5;28mself\u001b[39m\u001b[38;5;241m.\u001b[39minvoker\u001b[38;5;241m.\u001b[39mrun_job(job)\n\u001b[1;32m    270\u001b[0m \u001b[38;5;28mself\u001b[39m\u001b[38;5;241m.\u001b[39mfutures\u001b[38;5;241m.\u001b[39mextend(futures)\n",
      "File \u001b[0;32m~/.pyenv/versions/3.8.5/lib/python3.8/site-packages/lithops/job/job.py:80\u001b[0m, in \u001b[0;36mcreate_map_job\u001b[0;34m(config, internal_storage, executor_id, job_id, map_function, iterdata, runtime_meta, runtime_memory, extra_env, include_modules, exclude_modules, execution_timeout, chunksize, extra_args, obj_chunk_size, obj_newline, obj_chunk_number)\u001b[0m\n\u001b[1;32m     77\u001b[0m     host_job_meta[\u001b[38;5;124m'\u001b[39m\u001b[38;5;124mhost_job_create_partitions_time\u001b[39m\u001b[38;5;124m'\u001b[39m] \u001b[38;5;241m=\u001b[39m \u001b[38;5;28mround\u001b[39m(time\u001b[38;5;241m.\u001b[39mtime() \u001b[38;5;241m-\u001b[39m create_partitions_start, \u001b[38;5;241m6\u001b[39m)\n\u001b[1;32m     78\u001b[0m \u001b[38;5;66;03m# ########\u001b[39;00m\n\u001b[0;32m---> 80\u001b[0m job \u001b[38;5;241m=\u001b[39m \u001b[43m_create_job\u001b[49m\u001b[43m(\u001b[49m\n\u001b[1;32m     81\u001b[0m \u001b[43m    \u001b[49m\u001b[43mconfig\u001b[49m\u001b[38;5;241;43m=\u001b[39;49m\u001b[43mconfig\u001b[49m\u001b[43m,\u001b[49m\n\u001b[1;32m     82\u001b[0m \u001b[43m    \u001b[49m\u001b[43minternal_storage\u001b[49m\u001b[38;5;241;43m=\u001b[39;49m\u001b[43minternal_storage\u001b[49m\u001b[43m,\u001b[49m\n\u001b[1;32m     83\u001b[0m \u001b[43m    \u001b[49m\u001b[43mexecutor_id\u001b[49m\u001b[38;5;241;43m=\u001b[39;49m\u001b[43mexecutor_id\u001b[49m\u001b[43m,\u001b[49m\n\u001b[1;32m     84\u001b[0m \u001b[43m    \u001b[49m\u001b[43mjob_id\u001b[49m\u001b[38;5;241;43m=\u001b[39;49m\u001b[43mjob_id\u001b[49m\u001b[43m,\u001b[49m\n\u001b[1;32m     85\u001b[0m \u001b[43m    \u001b[49m\u001b[43mfunc\u001b[49m\u001b[38;5;241;43m=\u001b[39;49m\u001b[43mmap_function\u001b[49m\u001b[43m,\u001b[49m\n\u001b[1;32m     86\u001b[0m \u001b[43m    \u001b[49m\u001b[43miterdata\u001b[49m\u001b[38;5;241;43m=\u001b[39;49m\u001b[43mmap_iterdata\u001b[49m\u001b[43m,\u001b[49m\n\u001b[1;32m     87\u001b[0m \u001b[43m    \u001b[49m\u001b[43mchunksize\u001b[49m\u001b[38;5;241;43m=\u001b[39;49m\u001b[43mchunksize\u001b[49m\u001b[43m,\u001b[49m\n\u001b[1;32m     88\u001b[0m \u001b[43m    \u001b[49m\u001b[43mruntime_meta\u001b[49m\u001b[38;5;241;43m=\u001b[39;49m\u001b[43mruntime_meta\u001b[49m\u001b[43m,\u001b[49m\n\u001b[1;32m     89\u001b[0m \u001b[43m    \u001b[49m\u001b[43mruntime_memory\u001b[49m\u001b[38;5;241;43m=\u001b[39;49m\u001b[43mruntime_memory\u001b[49m\u001b[43m,\u001b[49m\n\u001b[1;32m     90\u001b[0m \u001b[43m    \u001b[49m\u001b[43mextra_env\u001b[49m\u001b[38;5;241;43m=\u001b[39;49m\u001b[43mextra_env\u001b[49m\u001b[43m,\u001b[49m\n\u001b[1;32m     91\u001b[0m \u001b[43m    \u001b[49m\u001b[43minclude_modules\u001b[49m\u001b[38;5;241;43m=\u001b[39;49m\u001b[43minclude_modules\u001b[49m\u001b[43m,\u001b[49m\n\u001b[1;32m     92\u001b[0m \u001b[43m    \u001b[49m\u001b[43mexclude_modules\u001b[49m\u001b[38;5;241;43m=\u001b[39;49m\u001b[43mexclude_modules\u001b[49m\u001b[43m,\u001b[49m\n\u001b[1;32m     93\u001b[0m \u001b[43m    \u001b[49m\u001b[43mexecution_timeout\u001b[49m\u001b[38;5;241;43m=\u001b[39;49m\u001b[43mexecution_timeout\u001b[49m\u001b[43m,\u001b[49m\n\u001b[1;32m     94\u001b[0m \u001b[43m    \u001b[49m\u001b[43mhost_job_meta\u001b[49m\u001b[38;5;241;43m=\u001b[39;49m\u001b[43mhost_job_meta\u001b[49m\n\u001b[1;32m     95\u001b[0m \u001b[43m\u001b[49m\u001b[43m)\u001b[49m\n\u001b[1;32m     97\u001b[0m \u001b[38;5;28;01mif\u001b[39;00m ppo:\n\u001b[1;32m     98\u001b[0m     job\u001b[38;5;241m.\u001b[39mparts_per_object \u001b[38;5;241m=\u001b[39m ppo\n",
      "File \u001b[0;32m~/.pyenv/versions/3.8.5/lib/python3.8/site-packages/lithops/job/job.py:237\u001b[0m, in \u001b[0;36m_create_job\u001b[0;34m(config, internal_storage, executor_id, job_id, func, iterdata, runtime_meta, runtime_memory, extra_env, include_modules, exclude_modules, execution_timeout, host_job_meta, chunksize)\u001b[0m\n\u001b[1;32m    235\u001b[0m job_serialize_start \u001b[38;5;241m=\u001b[39m time\u001b[38;5;241m.\u001b[39mtime()\n\u001b[1;32m    236\u001b[0m serializer \u001b[38;5;241m=\u001b[39m SerializeIndependent(runtime_meta[\u001b[38;5;124m'\u001b[39m\u001b[38;5;124mpreinstalls\u001b[39m\u001b[38;5;124m'\u001b[39m])\n\u001b[0;32m--> 237\u001b[0m func_and_data_ser, mod_paths \u001b[38;5;241m=\u001b[39m \u001b[43mserializer\u001b[49m\u001b[43m(\u001b[49m\u001b[43m[\u001b[49m\u001b[43mfunc\u001b[49m\u001b[43m]\u001b[49m\u001b[43m \u001b[49m\u001b[38;5;241;43m+\u001b[39;49m\u001b[43m \u001b[49m\u001b[43miterdata\u001b[49m\u001b[43m,\u001b[49m\u001b[43m \u001b[49m\u001b[43minc_modules\u001b[49m\u001b[43m,\u001b[49m\u001b[43m \u001b[49m\u001b[43mexc_modules\u001b[49m\u001b[43m)\u001b[49m\n\u001b[1;32m    238\u001b[0m data_strs \u001b[38;5;241m=\u001b[39m func_and_data_ser[\u001b[38;5;241m1\u001b[39m:]\n\u001b[1;32m    239\u001b[0m data_size_bytes \u001b[38;5;241m=\u001b[39m \u001b[38;5;28msum\u001b[39m(\u001b[38;5;28mlen\u001b[39m(x) \u001b[38;5;28;01mfor\u001b[39;00m x \u001b[38;5;129;01min\u001b[39;00m data_strs)\n",
      "File \u001b[0;32m~/.pyenv/versions/3.8.5/lib/python3.8/site-packages/lithops/job/serialize.py:87\u001b[0m, in \u001b[0;36mSerializeIndependent.__call__\u001b[0;34m(self, list_of_objs, include_modules, exclude_modules)\u001b[0m\n\u001b[1;32m     82\u001b[0m         \u001b[38;5;28mself\u001b[39m\u001b[38;5;241m.\u001b[39m_modulemgr\u001b[38;5;241m.\u001b[39madd(module_name)\n\u001b[1;32m     84\u001b[0m     direct_modules\u001b[38;5;241m.\u001b[39madd(origin \u001b[38;5;28;01mif\u001b[39;00m origin \u001b[38;5;241m!=\u001b[39m \u001b[38;5;124m'\u001b[39m\u001b[38;5;124mbuilt-in\u001b[39m\u001b[38;5;124m'\u001b[39m \u001b[38;5;28;01melse\u001b[39;00m module_name)\n\u001b[1;32m     86\u001b[0m logger\u001b[38;5;241m.\u001b[39mdebug(\u001b[38;5;124m\"\u001b[39m\u001b[38;5;124mReferenced modules: \u001b[39m\u001b[38;5;132;01m{}\u001b[39;00m\u001b[38;5;124m\"\u001b[39m\u001b[38;5;241m.\u001b[39mformat(\u001b[38;5;28;01mNone\u001b[39;00m \u001b[38;5;28;01mif\u001b[39;00m \u001b[38;5;129;01mnot\u001b[39;00m\n\u001b[0;32m---> 87\u001b[0m              direct_modules \u001b[38;5;28;01melse\u001b[39;00m \u001b[38;5;124;43m\"\u001b[39;49m\u001b[38;5;124;43m, \u001b[39;49m\u001b[38;5;124;43m\"\u001b[39;49m\u001b[38;5;241;43m.\u001b[39;49m\u001b[43mjoin\u001b[49m\u001b[43m(\u001b[49m\u001b[43mdirect_modules\u001b[49m\u001b[43m)\u001b[49m))\n\u001b[1;32m     89\u001b[0m \u001b[38;5;28;01mif\u001b[39;00m include_modules \u001b[38;5;129;01mis\u001b[39;00m \u001b[38;5;129;01mnot\u001b[39;00m \u001b[38;5;28;01mNone\u001b[39;00m:\n\u001b[1;32m     90\u001b[0m     tent_mod_paths \u001b[38;5;241m=\u001b[39m \u001b[38;5;28mself\u001b[39m\u001b[38;5;241m.\u001b[39m_modulemgr\u001b[38;5;241m.\u001b[39mget_and_clear_paths()\n",
      "\u001b[0;31mTypeError\u001b[0m: sequence item 0: expected str instance, NoneType found"
     ]
    }
   ],
   "source": [
    "# Parse dataset chunks into IBM COS\n",
    "pipeline.split_ds()"
   ]
  },
  {
   "cell_type": "code",
   "execution_count": null,
   "metadata": {
    "ExecuteTime": {
     "end_time": "2021-01-28T18:38:28.204568Z",
     "start_time": "2021-01-28T18:38:28.153741Z"
    },
    "pycharm": {
     "metadata": false,
     "name": "#%%\n"
    }
   },
   "outputs": [],
   "source": [
    "# Sort dataset chunks to ordered dataset segments\n",
    "pipeline.segment_ds()"
   ]
  },
  {
   "cell_type": "code",
   "execution_count": null,
   "metadata": {
    "ExecuteTime": {
     "end_time": "2021-01-28T18:40:41.064262Z",
     "start_time": "2021-01-28T18:38:28.206667Z"
    },
    "pycharm": {
     "metadata": false,
     "name": "#%%\n"
    }
   },
   "outputs": [],
   "source": [
    "# Sort database chunks to ordered database segments\n",
    "pipeline.segment_centroids()"
   ]
  },
  {
   "cell_type": "markdown",
   "metadata": {
    "pycharm": {
     "name": "#%% md\n"
    }
   },
   "source": [
    "### Engine"
   ]
  },
  {
   "cell_type": "code",
   "execution_count": null,
   "metadata": {
    "ExecuteTime": {
     "end_time": "2021-01-28T18:41:56.621478Z",
     "start_time": "2021-01-28T18:40:41.065845Z"
    }
   },
   "outputs": [],
   "source": [
    "# Annotate the molecular database over the dataset by creating images into IBM COS\n",
    "pipeline.annotate()"
   ]
  },
  {
   "cell_type": "code",
   "execution_count": null,
   "metadata": {
    "ExecuteTime": {
     "end_time": "2021-01-28T18:42:44.872543Z",
     "start_time": "2021-01-28T18:41:56.622804Z"
    }
   },
   "outputs": [],
   "source": [
    "# Discover expected false annotations by FDR (False-Discovery-Rate)\n",
    "pipeline.run_fdr()"
   ]
  },
  {
   "cell_type": "markdown",
   "metadata": {
    "pycharm": {
     "name": "#%% md\n"
    }
   },
   "source": [
    "### Lithops Summary"
   ]
  },
  {
   "cell_type": "code",
   "execution_count": null,
   "metadata": {
    "ExecuteTime": {
     "end_time": "2021-01-28T18:42:44.898172Z",
     "start_time": "2021-01-28T18:42:44.873639Z"
    },
    "pycharm": {
     "name": "#%%\n"
    }
   },
   "outputs": [],
   "source": [
    "# Display statistics file\n",
    "from annotation_pipeline.utils import PipelineStats\n",
    "PipelineStats.get()"
   ]
  },
  {
   "cell_type": "markdown",
   "metadata": {
    "pycharm": {
     "name": "#%% md\n"
    }
   },
   "source": [
    "# <a name=\"display\"></a> 3. Display Annotations"
   ]
  },
  {
   "cell_type": "code",
   "execution_count": null,
   "metadata": {
    "ExecuteTime": {
     "end_time": "2021-01-28T18:42:44.931764Z",
     "start_time": "2021-01-28T18:42:44.899674Z"
    }
   },
   "outputs": [],
   "source": [
    "# Display most annotated molecules statistics\n",
    "results_df = pipeline.get_results()\n",
    "top_mols = (results_df\n",
    "               .sort_values('msm', ascending=False)\n",
    "               .drop('database_path', axis=1)\n",
    "               .drop_duplicates(['mol','modifier','adduct']))\n",
    "top_mols.head()"
   ]
  },
  {
   "cell_type": "code",
   "execution_count": null,
   "metadata": {
    "ExecuteTime": {
     "end_time": "2021-01-28T18:43:39.635492Z",
     "start_time": "2021-01-28T18:42:44.932743Z"
    }
   },
   "outputs": [],
   "source": [
    "# Download annotated molecules images\n",
    "formula_images = pipeline.get_images(as_png=False)"
   ]
  },
  {
   "cell_type": "code",
   "execution_count": null,
   "metadata": {
    "ExecuteTime": {
     "end_time": "2021-01-28T18:43:40.202597Z",
     "start_time": "2021-01-28T18:43:39.643434Z"
    },
    "pycharm": {
     "name": "#%%\n"
    }
   },
   "outputs": [],
   "source": [
    "# Display most annotated molecules images\n",
    "import matplotlib.pyplot as plt\n",
    "for i, (formula_i, row) in enumerate(top_mols.head().iterrows()):\n",
    "    plt.figure(i)\n",
    "    plt.title(f'{row.mol}{row.modifier}{row.adduct} - MSM {row.msm:.3f} FDR {row.fdr*100:.0f}%')\n",
    "    plt.imshow(formula_images[formula_i][0].toarray())"
   ]
  },
  {
   "cell_type": "markdown",
   "metadata": {
    "pycharm": {
     "metadata": false
    }
   },
   "source": [
    "# <a name=\"clean\"></a> 4. Clean Temp Data"
   ]
  },
  {
   "cell_type": "code",
   "execution_count": null,
   "metadata": {
    "ExecuteTime": {
     "end_time": "2021-01-28T18:43:40.213951Z",
     "start_time": "2021-01-28T18:43:40.203601Z"
    }
   },
   "outputs": [],
   "source": [
    "pipeline.clean()"
   ]
  },
  {
   "cell_type": "code",
   "execution_count": null,
   "metadata": {},
   "outputs": [],
   "source": []
  }
 ],
 "metadata": {
  "kernelspec": {
   "display_name": "Python 3 (ipykernel)",
   "language": "python",
   "name": "python3"
  },
  "language_info": {
   "codemirror_mode": {
    "name": "ipython",
    "version": 3
   },
   "file_extension": ".py",
   "mimetype": "text/x-python",
   "name": "python",
   "nbconvert_exporter": "python",
   "pygments_lexer": "ipython3",
   "version": "3.8.5"
  },
  "stem_cell": {
   "cell_type": "raw",
   "metadata": {
    "pycharm": {
     "metadata": false
    }
   },
   "source": ""
  },
  "toc": {
   "base_numbering": 1,
   "nav_menu": {},
   "number_sections": true,
   "sideBar": true,
   "skip_h1_title": false,
   "title_cell": "Table of Contents",
   "title_sidebar": "Contents",
   "toc_cell": false,
   "toc_position": {},
   "toc_section_display": true,
   "toc_window_display": false
  }
 },
 "nbformat": 4,
 "nbformat_minor": 4
}
