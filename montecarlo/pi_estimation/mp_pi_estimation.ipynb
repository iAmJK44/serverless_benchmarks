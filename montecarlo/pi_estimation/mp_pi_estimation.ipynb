{
 "cells": [
  {
   "cell_type": "markdown",
   "metadata": {},
   "source": [
    "# Lithops Pi number Montecarlo approximation example\n",
    "In this notebook we will calculate an approximation to the number Pi by applying the Montecarlo algorithm with Lithops. Functions will process a fixed amount of random samples each that will then be averaged to provide the approximation.\n"
   ]
  },
  {
   "cell_type": "code",
   "execution_count": 2,
   "metadata": {
    "scrolled": true
   },
   "outputs": [],
   "source": [
    "import numpy as np\n",
    "import matplotlib.pyplot as plt\n",
    "from lithops.multiprocessing import Pool, Queue\n",
    "\n",
    "%matplotlib notebook"
   ]
  },
  {
   "cell_type": "code",
   "execution_count": 3,
   "metadata": {
    "scrolled": true
   },
   "outputs": [],
   "source": [
    "N = 100\n",
    "iter_per_func = 1000\n",
    "chosen_func_mod = N // 2\n",
    "num_points_to_send = 20"
   ]
  },
  {
   "cell_type": "markdown",
   "metadata": {},
   "source": [
    "### Monitoring\n",
    "Some functions will be chosen to send some of their already classified points over a queue that the main process will be consuming from to provide a live image of the first results."
   ]
  },
  {
   "cell_type": "code",
   "execution_count": 4,
   "metadata": {
    "scrolled": true
   },
   "outputs": [],
   "source": [
    "def pi_montecarlo(n, q):  \n",
    "    l = list()\n",
    "    value = 0\n",
    "    chosen = n % chosen_func_mod == 0\n",
    "    \n",
    "    for i in range(iter_per_func):\n",
    "        # Generate random point between 0 and 1\n",
    "        x = np.random.rand() \n",
    "        y = np.random.rand()\n",
    "        z = np.sqrt(x * x + y * y)\n",
    "        if z <= 1:\n",
    "            # Point is inside circle\n",
    "            value += 1\n",
    "\n",
    "        if chosen:\n",
    "            l.append((x, y, z))\n",
    "            if i == num_points_to_send:\n",
    "                # Send generated points\n",
    "                q.put(l)\n",
    "                chosen = False\n",
    "            \n",
    "    est_pi = value * 4.0 / iter_per_func\n",
    "    return est_pi"
   ]
  },
  {
   "cell_type": "markdown",
   "metadata": {},
   "source": [
    "### Configure access to your Cloud Storage and Cloud Functions\n",
    "\n",
    "Configure access details to your AWS or GCP Cloud Functions.  'storage_bucket'  should point to some pre-existing bucket. This bucket will be used by Lithops to store intermediate results. All results will be stored in the folder `lithops.jobs`. For additional configuration parameters see [configuration section](https://github.com/lithops-cloud/lithops)\n",
    "\n",
    "For GCP your `.lithops_config` should be similar to: \n",
    "    \n",
    "    lithops:\n",
    "        storage: redis\n",
    "        backend: gcp_functions\n",
    "        bucket: lithops-pipelines\n",
    "    \n",
    "    gcp:\n",
    "        credentials_path : <PATH_TO_JSON_KEYS>\n",
    "        region : <GCP_REGION>\n",
    "    \n",
    "    gcp_functions:\n",
    "        region : <GCP_REGION>\n",
    "    \n",
    "    redis:\n",
    "        host : <REDIS_HOST_IP>\n",
    "        port : <REDIS_HOST_PORT>\n",
    "        password: <REDIS_PASSWORD>\n",
    "\n",
    "For AWS your `.lithops_config` should be similar to: \n",
    "    \n",
    "    lithops:\n",
    "        storage: redis\n",
    "        backend: aws_lambda\n",
    "    \n",
    "    aws:\n",
    "        access_key_id : <AWS_ACCESS_KEY_ID>\n",
    "        secret_access_key : <AWS_SECRET_ACCESS_KEY> \n",
    "    \n",
    "    aws_lambda:\n",
    "        execution_role: <AWS_ROLE_ARN>\n",
    "        region_name: <REGION>\n",
    "        \n",
    "    redis:\n",
    "        host : <REDIS_HOST_IP>\n",
    "        port : <REDIS_HOST_PORT>\n",
    "        password: <REDIS_PASSWORD>"
   ]
  },
  {
   "cell_type": "markdown",
   "metadata": {},
   "source": [
    "### Execution"
   ]
  },
  {
   "cell_type": "code",
   "execution_count": null,
   "metadata": {
    "scrolled": true
   },
   "outputs": [],
   "source": [
    "pool = Pool()\n",
    "queue = Queue()\n",
    "results = pool.starmap_async(func=pi_montecarlo, iterable=[(i, queue) for i in range(N)])"
   ]
  },
  {
   "cell_type": "markdown",
   "metadata": {},
   "source": [
    "### Plot results on the go"
   ]
  },
  {
   "cell_type": "code",
   "execution_count": null,
   "metadata": {},
   "outputs": [],
   "source": [
    "fig, ax = plt.subplots(figsize=(7.5,7.5))\n",
    "plt.ion()\n",
    "fig.canvas.draw()\n",
    "plt.show()\n",
    "\n",
    "n_messages = 0\n",
    "num_chosen_func = N // chosen_func_mod\n",
    "\n",
    "while n_messages < num_chosen_func:\n",
    "    l = queue.get()  \n",
    "    for x, y, z in l:\n",
    "        color = 'red' if z <= 1 else 'blue'\n",
    "        ax.scatter(x, y, c=color, s=2)\n",
    "    n_messages += 1\n",
    "    plt.title(\"Displaying {:,d} of {:,d} generated points\".format(n_messages*num_points_to_send, N*iter_per_func))\n",
    "    fig.canvas.draw()\n",
    "\n",
    "plt.close()"
   ]
  },
  {
   "cell_type": "markdown",
   "metadata": {},
   "source": [
    "## Pi estimation\n",
    "Finally, we try to calculate the number Pi by averaging the results of each function.  \n",
    "The more iterations we perform, the more acurate the approximation becomes."
   ]
  },
  {
   "cell_type": "code",
   "execution_count": null,
   "metadata": {
    "scrolled": true
   },
   "outputs": [],
   "source": [
    "est_pi = np.mean(results.get())\n",
    "print('Estimated pi: {}'.format(est_pi))\n",
    "print('Num iterations: {:,d}'.format(N*iter_per_func))"
   ]
  }
 ],
 "metadata": {
  "kernelspec": {
   "display_name": "Python 3 (ipykernel)",
   "language": "python",
   "name": "python3"
  },
  "language_info": {
   "codemirror_mode": {
    "name": "ipython",
    "version": 3
   },
   "file_extension": ".py",
   "mimetype": "text/x-python",
   "name": "python",
   "nbconvert_exporter": "python",
   "pygments_lexer": "ipython3",
   "version": "3.9.0"
  }
 },
 "nbformat": 4,
 "nbformat_minor": 4
}
